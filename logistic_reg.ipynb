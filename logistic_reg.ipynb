{
 "metadata": {
  "language_info": {
   "codemirror_mode": {
    "name": "ipython",
    "version": 3
   },
   "file_extension": ".py",
   "mimetype": "text/x-python",
   "name": "python",
   "nbconvert_exporter": "python",
   "pygments_lexer": "ipython3",
   "version": "3.6.12-final"
  },
  "orig_nbformat": 2,
  "kernelspec": {
   "name": "Python 3.6.12 64-bit ('PythonAdv': conda)",
   "display_name": "Python 3.6.12 64-bit ('PythonAdv': conda)",
   "metadata": {
    "interpreter": {
     "hash": "f2bb9f86370a60ac91312da719a201e78c5337d3263c3b07daf7b613441cc83b"
    }
   }
  }
 },
 "nbformat": 4,
 "nbformat_minor": 2,
 "cells": [
  {
   "cell_type": "code",
   "execution_count": 40,
   "metadata": {},
   "outputs": [],
   "source": [
    "#imports\n",
    "import pandas as pd\n",
    "pd.set_option('display.max_columns', None) # Display any number of columns"
   ]
  },
  {
   "cell_type": "code",
   "execution_count": 49,
   "metadata": {},
   "outputs": [
    {
     "output_type": "execute_result",
     "data": {
      "text/plain": [
       "   Unnamed: 0  loan_amnt  term  int_rate sub_grade  emp_length home_ownership  \\\n",
       "0           0     3600.0    36     13.99        C4        10.0       MORTGAGE   \n",
       "1           1    24700.0    36     11.99        C1        10.0       MORTGAGE   \n",
       "2           2    20000.0    60     10.78        B4        10.0       MORTGAGE   \n",
       "3           4    10400.0    60     22.45        F1         3.0       MORTGAGE   \n",
       "4           5    11950.0    36     13.44        C3         4.0           RENT   \n",
       "\n",
       "   annual_inc verification_status             purpose addr_state    dti  \\\n",
       "0    4.740371        Not Verified  debt_consolidation         PA   5.91   \n",
       "1    4.812920        Not Verified      small_business         SD  16.06   \n",
       "2    4.799347        Not Verified    home_improvement         IL  10.78   \n",
       "3    5.018842     Source Verified      major_purchase         PA  25.37   \n",
       "4    4.531492     Source Verified  debt_consolidation         GA  10.20   \n",
       "\n",
       "   open_acc  pub_rec  revol_bal  revol_util initial_list_status  \\\n",
       "0       7.0      0.0   3.441852        29.7                   w   \n",
       "1      22.0      0.0   4.331852        19.2                   w   \n",
       "2       6.0      0.0   3.895975        56.2                   w   \n",
       "3      12.0      0.0   4.341039        64.5                   w   \n",
       "4       5.0      0.0   3.945616        68.4                   w   \n",
       "\n",
       "  application_type  mo_sin_old_il_acct  mort_acc  earliest_cr_year  \\\n",
       "0       Individual               148.0       1.0              2003   \n",
       "1       Individual               113.0       4.0              1999   \n",
       "2        Joint App               125.0       5.0              2000   \n",
       "3       Individual               128.0       6.0              1998   \n",
       "4       Individual               338.0       0.0              1987   \n",
       "\n",
       "   fico_score  charged_off  \n",
       "0       677.0            0  \n",
       "1       717.0            0  \n",
       "2       697.0            0  \n",
       "3       697.0            0  \n",
       "4       692.0            0  "
      ],
      "text/html": "<div>\n<style scoped>\n    .dataframe tbody tr th:only-of-type {\n        vertical-align: middle;\n    }\n\n    .dataframe tbody tr th {\n        vertical-align: top;\n    }\n\n    .dataframe thead th {\n        text-align: right;\n    }\n</style>\n<table border=\"1\" class=\"dataframe\">\n  <thead>\n    <tr style=\"text-align: right;\">\n      <th></th>\n      <th>Unnamed: 0</th>\n      <th>loan_amnt</th>\n      <th>term</th>\n      <th>int_rate</th>\n      <th>sub_grade</th>\n      <th>emp_length</th>\n      <th>home_ownership</th>\n      <th>annual_inc</th>\n      <th>verification_status</th>\n      <th>purpose</th>\n      <th>addr_state</th>\n      <th>dti</th>\n      <th>open_acc</th>\n      <th>pub_rec</th>\n      <th>revol_bal</th>\n      <th>revol_util</th>\n      <th>initial_list_status</th>\n      <th>application_type</th>\n      <th>mo_sin_old_il_acct</th>\n      <th>mort_acc</th>\n      <th>earliest_cr_year</th>\n      <th>fico_score</th>\n      <th>charged_off</th>\n    </tr>\n  </thead>\n  <tbody>\n    <tr>\n      <th>0</th>\n      <td>0</td>\n      <td>3600.0</td>\n      <td>36</td>\n      <td>13.99</td>\n      <td>C4</td>\n      <td>10.0</td>\n      <td>MORTGAGE</td>\n      <td>4.740371</td>\n      <td>Not Verified</td>\n      <td>debt_consolidation</td>\n      <td>PA</td>\n      <td>5.91</td>\n      <td>7.0</td>\n      <td>0.0</td>\n      <td>3.441852</td>\n      <td>29.7</td>\n      <td>w</td>\n      <td>Individual</td>\n      <td>148.0</td>\n      <td>1.0</td>\n      <td>2003</td>\n      <td>677.0</td>\n      <td>0</td>\n    </tr>\n    <tr>\n      <th>1</th>\n      <td>1</td>\n      <td>24700.0</td>\n      <td>36</td>\n      <td>11.99</td>\n      <td>C1</td>\n      <td>10.0</td>\n      <td>MORTGAGE</td>\n      <td>4.812920</td>\n      <td>Not Verified</td>\n      <td>small_business</td>\n      <td>SD</td>\n      <td>16.06</td>\n      <td>22.0</td>\n      <td>0.0</td>\n      <td>4.331852</td>\n      <td>19.2</td>\n      <td>w</td>\n      <td>Individual</td>\n      <td>113.0</td>\n      <td>4.0</td>\n      <td>1999</td>\n      <td>717.0</td>\n      <td>0</td>\n    </tr>\n    <tr>\n      <th>2</th>\n      <td>2</td>\n      <td>20000.0</td>\n      <td>60</td>\n      <td>10.78</td>\n      <td>B4</td>\n      <td>10.0</td>\n      <td>MORTGAGE</td>\n      <td>4.799347</td>\n      <td>Not Verified</td>\n      <td>home_improvement</td>\n      <td>IL</td>\n      <td>10.78</td>\n      <td>6.0</td>\n      <td>0.0</td>\n      <td>3.895975</td>\n      <td>56.2</td>\n      <td>w</td>\n      <td>Joint App</td>\n      <td>125.0</td>\n      <td>5.0</td>\n      <td>2000</td>\n      <td>697.0</td>\n      <td>0</td>\n    </tr>\n    <tr>\n      <th>3</th>\n      <td>4</td>\n      <td>10400.0</td>\n      <td>60</td>\n      <td>22.45</td>\n      <td>F1</td>\n      <td>3.0</td>\n      <td>MORTGAGE</td>\n      <td>5.018842</td>\n      <td>Source Verified</td>\n      <td>major_purchase</td>\n      <td>PA</td>\n      <td>25.37</td>\n      <td>12.0</td>\n      <td>0.0</td>\n      <td>4.341039</td>\n      <td>64.5</td>\n      <td>w</td>\n      <td>Individual</td>\n      <td>128.0</td>\n      <td>6.0</td>\n      <td>1998</td>\n      <td>697.0</td>\n      <td>0</td>\n    </tr>\n    <tr>\n      <th>4</th>\n      <td>5</td>\n      <td>11950.0</td>\n      <td>36</td>\n      <td>13.44</td>\n      <td>C3</td>\n      <td>4.0</td>\n      <td>RENT</td>\n      <td>4.531492</td>\n      <td>Source Verified</td>\n      <td>debt_consolidation</td>\n      <td>GA</td>\n      <td>10.20</td>\n      <td>5.0</td>\n      <td>0.0</td>\n      <td>3.945616</td>\n      <td>68.4</td>\n      <td>w</td>\n      <td>Individual</td>\n      <td>338.0</td>\n      <td>0.0</td>\n      <td>1987</td>\n      <td>692.0</td>\n      <td>0</td>\n    </tr>\n  </tbody>\n</table>\n</div>"
     },
     "metadata": {},
     "execution_count": 49
    }
   ],
   "source": [
    "#get csv and read\n",
    "df = pd.read_csv('output/LC_Final.csv.gz',compression='gzip',low_memory=True)\n",
    "df.head()"
   ]
  },
  {
   "cell_type": "code",
   "execution_count": 50,
   "metadata": {},
   "outputs": [],
   "source": [
    "#drop columns to be used later\n",
    "def drop_cols(cols):\n",
    "    df.drop(labels=cols, axis=1, inplace=True)"
   ]
  },
  {
   "cell_type": "code",
   "execution_count": 51,
   "metadata": {},
   "outputs": [
    {
     "output_type": "execute_result",
     "data": {
      "text/plain": [
       "0    1076751\n",
       "1     268559\n",
       "Name: charged_off, dtype: int64"
      ]
     },
     "metadata": {},
     "execution_count": 51
    }
   ],
   "source": [
    "# 0 fully paid, 1 charged off\n",
    "df[\"charged_off\"].value_counts()"
   ]
  },
  {
   "cell_type": "code",
   "execution_count": 52,
   "metadata": {},
   "outputs": [
    {
     "output_type": "execute_result",
     "data": {
      "text/plain": [
       "   loan_amnt  term  int_rate sub_grade  emp_length home_ownership  annual_inc  \\\n",
       "0     3600.0    36     13.99        C4        10.0       MORTGAGE    4.740371   \n",
       "1    24700.0    36     11.99        C1        10.0       MORTGAGE    4.812920   \n",
       "2    20000.0    60     10.78        B4        10.0       MORTGAGE    4.799347   \n",
       "3    10400.0    60     22.45        F1         3.0       MORTGAGE    5.018842   \n",
       "4    11950.0    36     13.44        C3         4.0           RENT    4.531492   \n",
       "\n",
       "  verification_status             purpose addr_state    dti  open_acc  \\\n",
       "0        Not Verified  debt_consolidation         PA   5.91       7.0   \n",
       "1        Not Verified      small_business         SD  16.06      22.0   \n",
       "2        Not Verified    home_improvement         IL  10.78       6.0   \n",
       "3     Source Verified      major_purchase         PA  25.37      12.0   \n",
       "4     Source Verified  debt_consolidation         GA  10.20       5.0   \n",
       "\n",
       "   pub_rec  revol_bal  revol_util initial_list_status application_type  \\\n",
       "0      0.0   3.441852        29.7                   w       Individual   \n",
       "1      0.0   4.331852        19.2                   w       Individual   \n",
       "2      0.0   3.895975        56.2                   w        Joint App   \n",
       "3      0.0   4.341039        64.5                   w       Individual   \n",
       "4      0.0   3.945616        68.4                   w       Individual   \n",
       "\n",
       "   mo_sin_old_il_acct  mort_acc  earliest_cr_year  fico_score  charged_off  \n",
       "0               148.0       1.0              2003       677.0            0  \n",
       "1               113.0       4.0              1999       717.0            0  \n",
       "2               125.0       5.0              2000       697.0            0  \n",
       "3               128.0       6.0              1998       697.0            0  \n",
       "4               338.0       0.0              1987       692.0            0  "
      ],
      "text/html": "<div>\n<style scoped>\n    .dataframe tbody tr th:only-of-type {\n        vertical-align: middle;\n    }\n\n    .dataframe tbody tr th {\n        vertical-align: top;\n    }\n\n    .dataframe thead th {\n        text-align: right;\n    }\n</style>\n<table border=\"1\" class=\"dataframe\">\n  <thead>\n    <tr style=\"text-align: right;\">\n      <th></th>\n      <th>loan_amnt</th>\n      <th>term</th>\n      <th>int_rate</th>\n      <th>sub_grade</th>\n      <th>emp_length</th>\n      <th>home_ownership</th>\n      <th>annual_inc</th>\n      <th>verification_status</th>\n      <th>purpose</th>\n      <th>addr_state</th>\n      <th>dti</th>\n      <th>open_acc</th>\n      <th>pub_rec</th>\n      <th>revol_bal</th>\n      <th>revol_util</th>\n      <th>initial_list_status</th>\n      <th>application_type</th>\n      <th>mo_sin_old_il_acct</th>\n      <th>mort_acc</th>\n      <th>earliest_cr_year</th>\n      <th>fico_score</th>\n      <th>charged_off</th>\n    </tr>\n  </thead>\n  <tbody>\n    <tr>\n      <th>0</th>\n      <td>3600.0</td>\n      <td>36</td>\n      <td>13.99</td>\n      <td>C4</td>\n      <td>10.0</td>\n      <td>MORTGAGE</td>\n      <td>4.740371</td>\n      <td>Not Verified</td>\n      <td>debt_consolidation</td>\n      <td>PA</td>\n      <td>5.91</td>\n      <td>7.0</td>\n      <td>0.0</td>\n      <td>3.441852</td>\n      <td>29.7</td>\n      <td>w</td>\n      <td>Individual</td>\n      <td>148.0</td>\n      <td>1.0</td>\n      <td>2003</td>\n      <td>677.0</td>\n      <td>0</td>\n    </tr>\n    <tr>\n      <th>1</th>\n      <td>24700.0</td>\n      <td>36</td>\n      <td>11.99</td>\n      <td>C1</td>\n      <td>10.0</td>\n      <td>MORTGAGE</td>\n      <td>4.812920</td>\n      <td>Not Verified</td>\n      <td>small_business</td>\n      <td>SD</td>\n      <td>16.06</td>\n      <td>22.0</td>\n      <td>0.0</td>\n      <td>4.331852</td>\n      <td>19.2</td>\n      <td>w</td>\n      <td>Individual</td>\n      <td>113.0</td>\n      <td>4.0</td>\n      <td>1999</td>\n      <td>717.0</td>\n      <td>0</td>\n    </tr>\n    <tr>\n      <th>2</th>\n      <td>20000.0</td>\n      <td>60</td>\n      <td>10.78</td>\n      <td>B4</td>\n      <td>10.0</td>\n      <td>MORTGAGE</td>\n      <td>4.799347</td>\n      <td>Not Verified</td>\n      <td>home_improvement</td>\n      <td>IL</td>\n      <td>10.78</td>\n      <td>6.0</td>\n      <td>0.0</td>\n      <td>3.895975</td>\n      <td>56.2</td>\n      <td>w</td>\n      <td>Joint App</td>\n      <td>125.0</td>\n      <td>5.0</td>\n      <td>2000</td>\n      <td>697.0</td>\n      <td>0</td>\n    </tr>\n    <tr>\n      <th>3</th>\n      <td>10400.0</td>\n      <td>60</td>\n      <td>22.45</td>\n      <td>F1</td>\n      <td>3.0</td>\n      <td>MORTGAGE</td>\n      <td>5.018842</td>\n      <td>Source Verified</td>\n      <td>major_purchase</td>\n      <td>PA</td>\n      <td>25.37</td>\n      <td>12.0</td>\n      <td>0.0</td>\n      <td>4.341039</td>\n      <td>64.5</td>\n      <td>w</td>\n      <td>Individual</td>\n      <td>128.0</td>\n      <td>6.0</td>\n      <td>1998</td>\n      <td>697.0</td>\n      <td>0</td>\n    </tr>\n    <tr>\n      <th>4</th>\n      <td>11950.0</td>\n      <td>36</td>\n      <td>13.44</td>\n      <td>C3</td>\n      <td>4.0</td>\n      <td>RENT</td>\n      <td>4.531492</td>\n      <td>Source Verified</td>\n      <td>debt_consolidation</td>\n      <td>GA</td>\n      <td>10.20</td>\n      <td>5.0</td>\n      <td>0.0</td>\n      <td>3.945616</td>\n      <td>68.4</td>\n      <td>w</td>\n      <td>Individual</td>\n      <td>338.0</td>\n      <td>0.0</td>\n      <td>1987</td>\n      <td>692.0</td>\n      <td>0</td>\n    </tr>\n  </tbody>\n</table>\n</div>"
     },
     "metadata": {},
     "execution_count": 52
    }
   ],
   "source": [
    "#drop unnamed\n",
    "drop_cols('Unnamed: 0')\n",
    "df.head()"
   ]
  },
  {
   "cell_type": "code",
   "execution_count": 53,
   "metadata": {},
   "outputs": [
    {
     "output_type": "stream",
     "name": "stdout",
     "text": [
      "loan_amnt              float64\nterm                     int64\nint_rate               float64\nsub_grade               object\nemp_length             float64\nhome_ownership          object\nannual_inc             float64\nverification_status     object\npurpose                 object\naddr_state              object\ndti                    float64\nopen_acc               float64\npub_rec                float64\nrevol_bal              float64\nrevol_util             float64\ninitial_list_status     object\napplication_type        object\nmo_sin_old_il_acct     float64\nmort_acc               float64\nearliest_cr_year         int64\nfico_score             float64\ncharged_off              int64\ndtype: object\n"
     ]
    }
   ],
   "source": [
    "#check column types\n",
    "print(df.dtypes)"
   ]
  },
  {
   "cell_type": "code",
   "execution_count": 54,
   "metadata": {},
   "outputs": [],
   "source": [
    "#code column obj\n",
    "df['sub_grade'] = df['sub_grade'].astype(\"category\")\n",
    "df['sub_grade'] = df.sub_grade.cat.codes\n",
    "\n",
    "df['home_ownership'] = df['home_ownership'].astype(\"category\")\n",
    "df['home_ownership'] = df.home_ownership.cat.codes\n",
    "\n",
    "df['verification_status'] = df['verification_status'].astype(\"category\")\n",
    "df['verification_status'] = df.verification_status.cat.codes\n",
    "\n",
    "df['purpose'] = df['purpose'].astype(\"category\")\n",
    "df['purpose'] = df.purpose.cat.codes\n",
    "\n",
    "df['addr_state'] = df['addr_state'].astype(\"category\")\n",
    "df['addr_state'] = df.addr_state.cat.codes\n",
    "\n",
    "df['initial_list_status'] = df['initial_list_status'].astype(\"category\")\n",
    "df['initial_list_status'] = df.initial_list_status.cat.codes\n",
    "\n",
    "df['application_type'] = df['application_type'].astype(\"category\")\n",
    "df['application_type'] = df.application_type.cat.codes\n"
   ]
  },
  {
   "cell_type": "code",
   "execution_count": 55,
   "metadata": {},
   "outputs": [
    {
     "output_type": "stream",
     "name": "stdout",
     "text": [
      "loan_amnt              float64\nterm                     int64\nint_rate               float64\nsub_grade                 int8\nemp_length             float64\nhome_ownership            int8\nannual_inc             float64\nverification_status       int8\npurpose                   int8\naddr_state                int8\ndti                    float64\nopen_acc               float64\npub_rec                float64\nrevol_bal              float64\nrevol_util             float64\ninitial_list_status       int8\napplication_type          int8\nmo_sin_old_il_acct     float64\nmort_acc               float64\nearliest_cr_year         int64\nfico_score             float64\ncharged_off              int64\ndtype: object\n"
     ]
    }
   ],
   "source": [
    "#double check\n",
    "print(df.dtypes)"
   ]
  },
  {
   "cell_type": "code",
   "execution_count": 56,
   "metadata": {},
   "outputs": [],
   "source": [
    "#drop any NA rows\n",
    "df = df.dropna()"
   ]
  },
  {
   "cell_type": "code",
   "execution_count": 57,
   "metadata": {},
   "outputs": [
    {
     "output_type": "stream",
     "name": "stdout",
     "text": [
      "1167952\n"
     ]
    }
   ],
   "source": [
    "#check df size\n",
    "print(len(df.index))"
   ]
  },
  {
   "cell_type": "code",
   "execution_count": 58,
   "metadata": {},
   "outputs": [],
   "source": [
    "#split data\n",
    "from sklearn.model_selection import train_test_split\n",
    "y = df[\"charged_off\"]\n",
    "X = df.drop(columns=[\"charged_off\"])\n",
    "\n",
    "X_train, X_test, y_train, y_test = train_test_split(X, y, random_state=1, stratify=y)"
   ]
  },
  {
   "cell_type": "code",
   "execution_count": 61,
   "metadata": {},
   "outputs": [],
   "source": [
    "#scale data\n",
    "from sklearn.preprocessing import MinMaxScaler\n",
    "X_scaler = MinMaxScaler().fit(X_train)\n",
    "\n",
    "X_train_scaled = X_scaler.transform(X_train)\n",
    "X_test_scaled = X_scaler.transform(X_test)"
   ]
  },
  {
   "cell_type": "code",
   "execution_count": 72,
   "metadata": {},
   "outputs": [],
   "source": [
    "#imports for ML model\n",
    "import tensorflow as tf\n",
    "from keras.models import Sequential\n",
    "from keras.utils import to_categorical\n",
    "from keras.layers import Dense, Dropout\n",
    "from sklearn.preprocessing import LabelEncoder\n"
   ]
  },
  {
   "cell_type": "code",
   "execution_count": 75,
   "metadata": {},
   "outputs": [
    {
     "output_type": "execute_result",
     "data": {
      "text/plain": [
       "LabelEncoder()"
      ]
     },
     "metadata": {},
     "execution_count": 75
    }
   ],
   "source": [
    "#get model type\n",
    "from sklearn.linear_model import LogisticRegression\n",
    "classifier = LogisticRegression()\n",
    "\n",
    "#fit training data for labels\n",
    "label_encoder = LabelEncoder()\n",
    "label_encoder.fit(y_train)"
   ]
  },
  {
   "cell_type": "code",
   "execution_count": 76,
   "metadata": {},
   "outputs": [
    {
     "output_type": "execute_result",
     "data": {
      "text/plain": [
       "LogisticRegression()"
      ]
     },
     "metadata": {},
     "execution_count": 76
    }
   ],
   "source": [
    "#fit training data\n",
    "classifier.fit(X_train_scaled, y_train)"
   ]
  },
  {
   "cell_type": "code",
   "execution_count": 77,
   "metadata": {},
   "outputs": [
    {
     "output_type": "stream",
     "name": "stdout",
     "text": [
      "Training Data Score: 0.8041814503792394\nTesting Data Score: 0.8039508472950944\n"
     ]
    }
   ],
   "source": [
    "print(f\"Training Data Score: {classifier.score(X_train_scaled, y_train)}\")\n",
    "print(f\"Testing Data Score: {classifier.score(X_test_scaled, y_test)}\")"
   ]
  },
  {
   "cell_type": "code",
   "execution_count": 78,
   "metadata": {},
   "outputs": [],
   "source": [
    "#set y data as category\n",
    "y_train_categorical = to_categorical(y_train)\n",
    "y_test_categorical = to_categorical(y_test)"
   ]
  },
  {
   "cell_type": "code",
   "execution_count": 79,
   "metadata": {},
   "outputs": [
    {
     "output_type": "stream",
     "name": "stdout",
     "text": [
      "Model: \"sequential_5\"\n_________________________________________________________________\nLayer (type)                 Output Shape              Param #   \n=================================================================\ndense_12 (Dense)             (None, 100)               2200      \n_________________________________________________________________\ndense_13 (Dense)             (None, 100)               10100     \n_________________________________________________________________\ndense_14 (Dense)             (None, 2)                 202       \n=================================================================\nTotal params: 12,502\nTrainable params: 12,502\nNon-trainable params: 0\n_________________________________________________________________\n"
     ]
    }
   ],
   "source": [
    "#model, 21 inputs, 2 outputs\n",
    "model = Sequential()\n",
    "model.add(Dense(units=100, activation='relu', input_dim=21))\n",
    "model.add(Dense(units=100, activation='relu'))\n",
    "model.add(Dense(units=2, activation='softmax'))\n",
    "model.summary()"
   ]
  },
  {
   "cell_type": "code",
   "execution_count": 80,
   "metadata": {},
   "outputs": [],
   "source": [
    "# Compile the model\n",
    "model.compile(optimizer='adam',\n",
    "              loss='categorical_crossentropy',\n",
    "              metrics=['accuracy'])"
   ]
  },
  {
   "cell_type": "code",
   "execution_count": 81,
   "metadata": {},
   "outputs": [
    {
     "output_type": "stream",
     "name": "stdout",
     "text": [
      "Epoch 1/10\n",
      " - 28s - loss: 0.4513 - accuracy: 0.8038\n",
      "Epoch 2/10\n",
      " - 27s - loss: 0.4490 - accuracy: 0.8046\n",
      "Epoch 3/10\n",
      " - 26s - loss: 0.4484 - accuracy: 0.8047\n",
      "Epoch 4/10\n",
      " - 26s - loss: 0.4481 - accuracy: 0.8050\n",
      "Epoch 5/10\n",
      " - 26s - loss: 0.4478 - accuracy: 0.8049\n",
      "Epoch 6/10\n",
      " - 26s - loss: 0.4475 - accuracy: 0.8052\n",
      "Epoch 7/10\n",
      " - 26s - loss: 0.4474 - accuracy: 0.8051\n",
      "Epoch 8/10\n",
      " - 26s - loss: 0.4472 - accuracy: 0.8054\n",
      "Epoch 9/10\n",
      " - 26s - loss: 0.4471 - accuracy: 0.8052\n",
      "Epoch 10/10\n",
      " - 26s - loss: 0.4470 - accuracy: 0.8054\n"
     ]
    },
    {
     "output_type": "execute_result",
     "data": {
      "text/plain": [
       "<keras.callbacks.callbacks.History at 0x135ac37a668>"
      ]
     },
     "metadata": {},
     "execution_count": 81
    }
   ],
   "source": [
    "#run model\n",
    "model.fit(\n",
    "    X_train_scaled,\n",
    "    y_train_categorical,\n",
    "    epochs=10,\n",
    "    shuffle=True,\n",
    "    verbose=2\n",
    ")"
   ]
  },
  {
   "cell_type": "code",
   "execution_count": 82,
   "metadata": {},
   "outputs": [
    {
     "output_type": "stream",
     "name": "stdout",
     "text": [
      "Normal Neural Network - Loss: 0.4476959362301707, Accuracy: 0.8047419786453247\n"
     ]
    }
   ],
   "source": [
    "#evaluate model loss and acc\n",
    "model_loss, model_accuracy = model.evaluate(\n",
    "    X_test_scaled, y_test_categorical, verbose=2)\n",
    "print(\n",
    "    f\"Normal Neural Network - Loss: {model_loss}, Accuracy: {model_accuracy}\")"
   ]
  },
  {
   "cell_type": "code",
   "execution_count": 92,
   "metadata": {},
   "outputs": [],
   "source": [
    "#load test data to predict classes with model\n",
    "encoded_predictions = model.predict_classes(X_test_scaled[:10])\n",
    "prediction_labels = label_encoder.inverse_transform(encoded_predictions)\n"
   ]
  },
  {
   "cell_type": "code",
   "execution_count": 93,
   "metadata": {},
   "outputs": [
    {
     "output_type": "stream",
     "name": "stdout",
     "text": [
      "Predicted classes: [0 0 0 0 0 0 0 0 0 0]\nActual Labels: [0, 0, 0, 0, 0, 0, 0, 0, 0, 0]\n"
     ]
    }
   ],
   "source": [
    "#print 10 tests\n",
    "print(f\"Predicted classes: {prediction_labels}\")\n",
    "print(f\"Actual Labels: {list(y_test[:10])}\")"
   ]
  },
  {
   "cell_type": "code",
   "execution_count": 94,
   "metadata": {},
   "outputs": [
    {
     "output_type": "execute_result",
     "data": {
      "text/plain": [
       "['deep_learning_log_reg.sav']"
      ]
     },
     "metadata": {},
     "execution_count": 94
    }
   ],
   "source": [
    "# save fitted model to file\n",
    "import joblib\n",
    "filename = 'deep_learning_log_reg.sav'\n",
    "joblib.dump(model, filename)"
   ]
  },
  {
   "cell_type": "code",
   "execution_count": null,
   "metadata": {},
   "outputs": [],
   "source": []
  }
 ]
}