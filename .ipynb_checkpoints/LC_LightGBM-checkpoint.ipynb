{
 "cells": [
  {
   "cell_type": "code",
   "execution_count": 55,
   "metadata": {},
   "outputs": [],
   "source": [
    "import pandas as pd\n",
    "import numpy as np\n",
    "pd.set_option('display.max_columns', None) # Display any number of columns\n",
    "pd.set_option('display.max_rows', None) \n",
    "pd.set_option('display.max_colwidth', None)\n",
    "import matplotlib.pyplot as plt\n",
    "import seaborn as sns\n",
    "sns.set_style('white')\n",
    "%matplotlib inline\n",
    "\n",
    "import matplotlib as mpl # Additional plotting functionality\n",
    "mpl.rcParams['figure.dpi'] = 400 # High resolution figures\n",
    "\n",
    "# ignore Deprecation Warning\n",
    "import warnings\n",
    "warnings.filterwarnings(\"ignore\") \n",
    "\n",
    "from sklearn.utils import resample\n",
    "from sklearn.preprocessing import StandardScaler\n",
    "from sklearn.model_selection import train_test_split\n",
    "from sklearn.model_selection import cross_validate, KFold\n",
    "\n",
    "from sklearn.metrics import recall_score, roc_auc_score, f1_score\n",
    "from sklearn.metrics import accuracy_score, roc_auc_score, \\\n",
    "                            classification_report, confusion_matrix, roc_auc_score, roc_curve\n"
   ]
  },
  {
   "cell_type": "markdown",
   "metadata": {},
   "source": [
    "Read the file "
   ]
  },
  {
   "cell_type": "code",
   "execution_count": 2,
   "metadata": {},
   "outputs": [],
   "source": [
    "df = pd.read_csv('output/LC_Final.csv.gz',compression='gzip',low_memory=True)"
   ]
  },
  {
   "cell_type": "code",
   "execution_count": 3,
   "metadata": {},
   "outputs": [
    {
     "data": {
      "text/html": [
       "<div>\n",
       "<style scoped>\n",
       "    .dataframe tbody tr th:only-of-type {\n",
       "        vertical-align: middle;\n",
       "    }\n",
       "\n",
       "    .dataframe tbody tr th {\n",
       "        vertical-align: top;\n",
       "    }\n",
       "\n",
       "    .dataframe thead th {\n",
       "        text-align: right;\n",
       "    }\n",
       "</style>\n",
       "<table border=\"1\" class=\"dataframe\">\n",
       "  <thead>\n",
       "    <tr style=\"text-align: right;\">\n",
       "      <th></th>\n",
       "      <th>Unnamed: 0</th>\n",
       "      <th>loan_amnt</th>\n",
       "      <th>term</th>\n",
       "      <th>int_rate</th>\n",
       "      <th>sub_grade</th>\n",
       "      <th>emp_length</th>\n",
       "      <th>home_ownership</th>\n",
       "      <th>annual_inc</th>\n",
       "      <th>verification_status</th>\n",
       "      <th>purpose</th>\n",
       "      <th>addr_state</th>\n",
       "      <th>dti</th>\n",
       "      <th>open_acc</th>\n",
       "      <th>pub_rec</th>\n",
       "      <th>revol_bal</th>\n",
       "      <th>revol_util</th>\n",
       "      <th>initial_list_status</th>\n",
       "      <th>application_type</th>\n",
       "      <th>mo_sin_old_il_acct</th>\n",
       "      <th>mort_acc</th>\n",
       "      <th>earliest_cr_year</th>\n",
       "      <th>fico_score</th>\n",
       "      <th>charged_off</th>\n",
       "    </tr>\n",
       "  </thead>\n",
       "  <tbody>\n",
       "    <tr>\n",
       "      <th>1237929</th>\n",
       "      <td>2013230</td>\n",
       "      <td>6000.0</td>\n",
       "      <td>36</td>\n",
       "      <td>9.49</td>\n",
       "      <td>B2</td>\n",
       "      <td>2.0</td>\n",
       "      <td>RENT</td>\n",
       "      <td>4.832515</td>\n",
       "      <td>Verified</td>\n",
       "      <td>debt_consolidation</td>\n",
       "      <td>MN</td>\n",
       "      <td>24.25</td>\n",
       "      <td>10.0</td>\n",
       "      <td>2.0</td>\n",
       "      <td>4.059753</td>\n",
       "      <td>69.1</td>\n",
       "      <td>w</td>\n",
       "      <td>Individual</td>\n",
       "      <td>297.0</td>\n",
       "      <td>0.0</td>\n",
       "      <td>1991</td>\n",
       "      <td>677.0</td>\n",
       "      <td>0</td>\n",
       "    </tr>\n",
       "    <tr>\n",
       "      <th>1060887</th>\n",
       "      <td>1807266</td>\n",
       "      <td>4800.0</td>\n",
       "      <td>36</td>\n",
       "      <td>17.56</td>\n",
       "      <td>D1</td>\n",
       "      <td>2.0</td>\n",
       "      <td>OWN</td>\n",
       "      <td>4.322240</td>\n",
       "      <td>Not Verified</td>\n",
       "      <td>house</td>\n",
       "      <td>MO</td>\n",
       "      <td>25.14</td>\n",
       "      <td>4.0</td>\n",
       "      <td>0.0</td>\n",
       "      <td>3.775538</td>\n",
       "      <td>48.9</td>\n",
       "      <td>f</td>\n",
       "      <td>Individual</td>\n",
       "      <td>39.0</td>\n",
       "      <td>3.0</td>\n",
       "      <td>2002</td>\n",
       "      <td>687.0</td>\n",
       "      <td>0</td>\n",
       "    </tr>\n",
       "    <tr>\n",
       "      <th>1148706</th>\n",
       "      <td>1895085</td>\n",
       "      <td>8125.0</td>\n",
       "      <td>36</td>\n",
       "      <td>17.77</td>\n",
       "      <td>D1</td>\n",
       "      <td>8.0</td>\n",
       "      <td>MORTGAGE</td>\n",
       "      <td>4.638499</td>\n",
       "      <td>Verified</td>\n",
       "      <td>debt_consolidation</td>\n",
       "      <td>MN</td>\n",
       "      <td>34.15</td>\n",
       "      <td>15.0</td>\n",
       "      <td>0.0</td>\n",
       "      <td>4.363104</td>\n",
       "      <td>85.8</td>\n",
       "      <td>w</td>\n",
       "      <td>Individual</td>\n",
       "      <td>150.0</td>\n",
       "      <td>2.0</td>\n",
       "      <td>1998</td>\n",
       "      <td>672.0</td>\n",
       "      <td>0</td>\n",
       "    </tr>\n",
       "  </tbody>\n",
       "</table>\n",
       "</div>"
      ],
      "text/plain": [
       "         Unnamed: 0  loan_amnt  term  int_rate sub_grade  emp_length  \\\n",
       "1237929     2013230     6000.0    36      9.49        B2         2.0   \n",
       "1060887     1807266     4800.0    36     17.56        D1         2.0   \n",
       "1148706     1895085     8125.0    36     17.77        D1         8.0   \n",
       "\n",
       "        home_ownership  annual_inc verification_status             purpose  \\\n",
       "1237929           RENT    4.832515            Verified  debt_consolidation   \n",
       "1060887            OWN    4.322240        Not Verified               house   \n",
       "1148706       MORTGAGE    4.638499            Verified  debt_consolidation   \n",
       "\n",
       "        addr_state    dti  open_acc  pub_rec  revol_bal  revol_util  \\\n",
       "1237929         MN  24.25      10.0      2.0   4.059753        69.1   \n",
       "1060887         MO  25.14       4.0      0.0   3.775538        48.9   \n",
       "1148706         MN  34.15      15.0      0.0   4.363104        85.8   \n",
       "\n",
       "        initial_list_status application_type  mo_sin_old_il_acct  mort_acc  \\\n",
       "1237929                   w       Individual               297.0       0.0   \n",
       "1060887                   f       Individual                39.0       3.0   \n",
       "1148706                   w       Individual               150.0       2.0   \n",
       "\n",
       "         earliest_cr_year  fico_score  charged_off  \n",
       "1237929              1991       677.0            0  \n",
       "1060887              2002       687.0            0  \n",
       "1148706              1998       672.0            0  "
      ]
     },
     "execution_count": 3,
     "metadata": {},
     "output_type": "execute_result"
    }
   ],
   "source": [
    "df.sample(3)"
   ]
  },
  {
   "cell_type": "code",
   "execution_count": 4,
   "metadata": {},
   "outputs": [],
   "source": [
    "df = df.drop('Unnamed: 0', axis=1)"
   ]
  },
  {
   "cell_type": "code",
   "execution_count": 12,
   "metadata": {},
   "outputs": [
    {
     "data": {
      "text/plain": [
       "10    85494\n",
       "8     83199\n",
       "9     82538\n",
       "7     81827\n",
       "11    79213\n",
       "12    74998\n",
       "13    74421\n",
       "6     74024\n",
       "5     71153\n",
       "14    67560\n",
       "4     64003\n",
       "3     52235\n",
       "15    51321\n",
       "16    44848\n",
       "0     43678\n",
       "17    39317\n",
       "2     37996\n",
       "1     37178\n",
       "18    35566\n",
       "19    29901\n",
       "20    23749\n",
       "21    21377\n",
       "22    18387\n",
       "23    15720\n",
       "24    14417\n",
       "25     9970\n",
       "26     7198\n",
       "27     6088\n",
       "28     4859\n",
       "29     3943\n",
       "30     2997\n",
       "31     2131\n",
       "32     1614\n",
       "33     1280\n",
       "34     1110\n",
       "Name: sub_grade, dtype: int64"
      ]
     },
     "execution_count": 12,
     "metadata": {},
     "output_type": "execute_result"
    }
   ],
   "source": [
    "df['sub_grade'] = df['sub_grade'].astype(\"category\")\n",
    "df['sub_grade'] = df.sub_grade.cat.codes\n",
    "df['sub_grade'].value_counts()"
   ]
  },
  {
   "cell_type": "code",
   "execution_count": 13,
   "metadata": {},
   "outputs": [
    {
     "data": {
      "text/plain": [
       "2     780321\n",
       "1     295279\n",
       "4      87504\n",
       "9      77875\n",
       "6      29425\n",
       "7      15554\n",
       "11     15416\n",
       "0      14585\n",
       "8       9480\n",
       "12      9065\n",
       "5       7253\n",
       "13      2294\n",
       "10       933\n",
       "3        326\n",
       "Name: purpose, dtype: int64"
      ]
     },
     "execution_count": 13,
     "metadata": {},
     "output_type": "execute_result"
    }
   ],
   "source": [
    "df['purpose'] = df['purpose'].astype(\"category\")\n",
    "df['purpose'] = df.purpose.cat.codes\n",
    "df['purpose'].value_counts()"
   ]
  },
  {
   "cell_type": "code",
   "execution_count": 14,
   "metadata": {},
   "outputs": [
    {
     "data": {
      "text/plain": [
       "0    665579\n",
       "3    534421\n",
       "2    144832\n",
       "1       478\n",
       "Name: home_ownership, dtype: int64"
      ]
     },
     "execution_count": 14,
     "metadata": {},
     "output_type": "execute_result"
    }
   ],
   "source": [
    "df['home_ownership'] = df['home_ownership'].astype(\"category\")\n",
    "df['home_ownership'] = df.home_ownership.cat.codes\n",
    "df['home_ownership'].value_counts()"
   ]
  },
  {
   "cell_type": "code",
   "execution_count": 15,
   "metadata": {},
   "outputs": [
    {
     "data": {
      "text/plain": [
       "4     196528\n",
       "43    110169\n",
       "34    109842\n",
       "9      95606\n",
       "14     51720\n",
       "Name: addr_state, dtype: int64"
      ]
     },
     "execution_count": 15,
     "metadata": {},
     "output_type": "execute_result"
    }
   ],
   "source": [
    "df['addr_state'] = df['addr_state'].astype(\"category\")\n",
    "df['addr_state'] = df.addr_state.cat.codes\n",
    "df['addr_state'].value_counts().head()"
   ]
  },
  {
   "cell_type": "code",
   "execution_count": 16,
   "metadata": {},
   "outputs": [
    {
     "data": {
      "text/plain": [
       "1    521273\n",
       "2    418336\n",
       "0    405701\n",
       "Name: verification_status, dtype: int64"
      ]
     },
     "execution_count": 16,
     "metadata": {},
     "output_type": "execute_result"
    }
   ],
   "source": [
    "df['verification_status'] = df['verification_status'].astype(\"category\")\n",
    "df['verification_status'] = df.verification_status.cat.codes\n",
    "df['verification_status'].value_counts().head()"
   ]
  },
  {
   "cell_type": "code",
   "execution_count": 17,
   "metadata": {},
   "outputs": [
    {
     "data": {
      "text/plain": [
       "1    784010\n",
       "0    561300\n",
       "Name: initial_list_status, dtype: int64"
      ]
     },
     "execution_count": 17,
     "metadata": {},
     "output_type": "execute_result"
    }
   ],
   "source": [
    "df['initial_list_status'] = df['initial_list_status'].astype(\"category\")\n",
    "df['initial_list_status'] = df.initial_list_status.cat.codes\n",
    "df['initial_list_status'].value_counts().head()"
   ]
  },
  {
   "cell_type": "code",
   "execution_count": 18,
   "metadata": {},
   "outputs": [
    {
     "data": {
      "text/plain": [
       "0    1319510\n",
       "1      25800\n",
       "Name: application_type, dtype: int64"
      ]
     },
     "execution_count": 18,
     "metadata": {},
     "output_type": "execute_result"
    }
   ],
   "source": [
    "df['application_type'] = df['application_type'].astype(\"category\")\n",
    "df['application_type'] = df.application_type.cat.codes\n",
    "df['application_type'].value_counts().head()"
   ]
  },
  {
   "cell_type": "markdown",
   "metadata": {},
   "source": [
    "# Feature Engineering\n",
    "- one hot encoding \n",
    "- Imputing missing values"
   ]
  },
  {
   "cell_type": "markdown",
   "metadata": {},
   "source": [
    "### List all the columns that are currently non-numeric"
   ]
  },
  {
   "cell_type": "code",
   "execution_count": 19,
   "metadata": {},
   "outputs": [
    {
     "data": {
      "text/plain": [
       "Index([], dtype='object')"
      ]
     },
     "execution_count": 19,
     "metadata": {},
     "output_type": "execute_result"
    }
   ],
   "source": [
    "df.select_dtypes(['object']).columns"
   ]
  },
  {
   "cell_type": "markdown",
   "metadata": {},
   "source": [
    "#### Check if there are any missing values"
   ]
  },
  {
   "cell_type": "code",
   "execution_count": 20,
   "metadata": {},
   "outputs": [
    {
     "data": {
      "text/plain": [
       "(1345310, 22)"
      ]
     },
     "execution_count": 20,
     "metadata": {},
     "output_type": "execute_result"
    }
   ],
   "source": [
    "df.shape"
   ]
  },
  {
   "cell_type": "markdown",
   "metadata": {},
   "source": [
    "#### Imputing missing values"
   ]
  },
  {
   "cell_type": "code",
   "execution_count": 21,
   "metadata": {},
   "outputs": [
    {
     "data": {
      "text/plain": [
       "(1167952, 22)"
      ]
     },
     "execution_count": 21,
     "metadata": {},
     "output_type": "execute_result"
    }
   ],
   "source": [
    "df = df.dropna(how='any')\n",
    "df.shape"
   ]
  },
  {
   "cell_type": "markdown",
   "metadata": {},
   "source": [
    "df.isnull().any() generates a boolean array (True if the column has a missing value, False otherwise). You can use it to index into df.columns:"
   ]
  },
  {
   "cell_type": "code",
   "execution_count": 22,
   "metadata": {},
   "outputs": [
    {
     "data": {
      "text/plain": [
       "Index([], dtype='object')"
      ]
     },
     "execution_count": 22,
     "metadata": {},
     "output_type": "execute_result"
    }
   ],
   "source": [
    "df.columns[df.isnull().any()]"
   ]
  },
  {
   "cell_type": "code",
   "execution_count": 23,
   "metadata": {},
   "outputs": [
    {
     "data": {
      "text/html": [
       "<div>\n",
       "<style scoped>\n",
       "    .dataframe tbody tr th:only-of-type {\n",
       "        vertical-align: middle;\n",
       "    }\n",
       "\n",
       "    .dataframe tbody tr th {\n",
       "        vertical-align: top;\n",
       "    }\n",
       "\n",
       "    .dataframe thead th {\n",
       "        text-align: right;\n",
       "    }\n",
       "</style>\n",
       "<table border=\"1\" class=\"dataframe\">\n",
       "  <thead>\n",
       "    <tr style=\"text-align: right;\">\n",
       "      <th></th>\n",
       "      <th>loan_amnt</th>\n",
       "      <th>term</th>\n",
       "      <th>int_rate</th>\n",
       "      <th>sub_grade</th>\n",
       "      <th>emp_length</th>\n",
       "      <th>home_ownership</th>\n",
       "      <th>annual_inc</th>\n",
       "      <th>verification_status</th>\n",
       "      <th>purpose</th>\n",
       "      <th>addr_state</th>\n",
       "      <th>dti</th>\n",
       "      <th>open_acc</th>\n",
       "      <th>pub_rec</th>\n",
       "      <th>revol_bal</th>\n",
       "      <th>revol_util</th>\n",
       "      <th>initial_list_status</th>\n",
       "      <th>application_type</th>\n",
       "      <th>mo_sin_old_il_acct</th>\n",
       "      <th>mort_acc</th>\n",
       "      <th>earliest_cr_year</th>\n",
       "      <th>fico_score</th>\n",
       "      <th>charged_off</th>\n",
       "    </tr>\n",
       "  </thead>\n",
       "  <tbody>\n",
       "    <tr>\n",
       "      <th>30874</th>\n",
       "      <td>5175.0</td>\n",
       "      <td>36</td>\n",
       "      <td>18.99</td>\n",
       "      <td>22</td>\n",
       "      <td>10.0</td>\n",
       "      <td>0</td>\n",
       "      <td>4.903095</td>\n",
       "      <td>2</td>\n",
       "      <td>2</td>\n",
       "      <td>1</td>\n",
       "      <td>23.10</td>\n",
       "      <td>7.0</td>\n",
       "      <td>1.0</td>\n",
       "      <td>3.635986</td>\n",
       "      <td>90.1</td>\n",
       "      <td>0</td>\n",
       "      <td>0</td>\n",
       "      <td>151.0</td>\n",
       "      <td>1.0</td>\n",
       "      <td>2003</td>\n",
       "      <td>697.0</td>\n",
       "      <td>0</td>\n",
       "    </tr>\n",
       "    <tr>\n",
       "      <th>410208</th>\n",
       "      <td>32550.0</td>\n",
       "      <td>60</td>\n",
       "      <td>30.17</td>\n",
       "      <td>27</td>\n",
       "      <td>1.0</td>\n",
       "      <td>0</td>\n",
       "      <td>4.720168</td>\n",
       "      <td>1</td>\n",
       "      <td>2</td>\n",
       "      <td>44</td>\n",
       "      <td>25.97</td>\n",
       "      <td>9.0</td>\n",
       "      <td>0.0</td>\n",
       "      <td>4.349841</td>\n",
       "      <td>84.1</td>\n",
       "      <td>1</td>\n",
       "      <td>1</td>\n",
       "      <td>53.0</td>\n",
       "      <td>3.0</td>\n",
       "      <td>2011</td>\n",
       "      <td>667.0</td>\n",
       "      <td>0</td>\n",
       "    </tr>\n",
       "  </tbody>\n",
       "</table>\n",
       "</div>"
      ],
      "text/plain": [
       "        loan_amnt  term  int_rate  sub_grade  emp_length  home_ownership  \\\n",
       "30874      5175.0    36     18.99         22        10.0               0   \n",
       "410208    32550.0    60     30.17         27         1.0               0   \n",
       "\n",
       "        annual_inc  verification_status  purpose  addr_state    dti  open_acc  \\\n",
       "30874     4.903095                    2        2           1  23.10       7.0   \n",
       "410208    4.720168                    1        2          44  25.97       9.0   \n",
       "\n",
       "        pub_rec  revol_bal  revol_util  initial_list_status  application_type  \\\n",
       "30874       1.0   3.635986        90.1                    0                 0   \n",
       "410208      0.0   4.349841        84.1                    1                 1   \n",
       "\n",
       "        mo_sin_old_il_acct  mort_acc  earliest_cr_year  fico_score  \\\n",
       "30874                151.0       1.0              2003       697.0   \n",
       "410208                53.0       3.0              2011       667.0   \n",
       "\n",
       "        charged_off  \n",
       "30874             0  \n",
       "410208            0  "
      ]
     },
     "execution_count": 23,
     "metadata": {},
     "output_type": "execute_result"
    }
   ],
   "source": [
    "df.sample(2)"
   ]
  },
  {
   "cell_type": "code",
   "execution_count": 24,
   "metadata": {},
   "outputs": [
    {
     "data": {
      "text/plain": [
       "0    937174\n",
       "1    230778\n",
       "Name: charged_off, dtype: int64"
      ]
     },
     "execution_count": 24,
     "metadata": {},
     "output_type": "execute_result"
    }
   ],
   "source": [
    "df['charged_off'].value_counts()"
   ]
  },
  {
   "cell_type": "code",
   "execution_count": 25,
   "metadata": {},
   "outputs": [
    {
     "data": {
      "text/plain": [
       "0    0.802408\n",
       "1    0.197592\n",
       "Name: charged_off, dtype: float64"
      ]
     },
     "execution_count": 25,
     "metadata": {},
     "output_type": "execute_result"
    }
   ],
   "source": [
    "df['charged_off'].value_counts(normalize=True, dropna=False)"
   ]
  },
  {
   "cell_type": "code",
   "execution_count": 26,
   "metadata": {},
   "outputs": [],
   "source": [
    "df_major = df[df.charged_off == 0]\n",
    "df_minor = df[df.charged_off == 1]"
   ]
  },
  {
   "cell_type": "code",
   "execution_count": 27,
   "metadata": {},
   "outputs": [],
   "source": [
    "df_minor_upsmapled = resample(df_minor, replace = True, n_samples = 937174, random_state = 1019)"
   ]
  },
  {
   "cell_type": "code",
   "execution_count": 28,
   "metadata": {},
   "outputs": [],
   "source": [
    "df_minor_upsmapled = pd.concat([df_minor_upsmapled, df_major])"
   ]
  },
  {
   "cell_type": "code",
   "execution_count": 29,
   "metadata": {},
   "outputs": [
    {
     "data": {
      "text/plain": [
       "1    937174\n",
       "0    937174\n",
       "Name: charged_off, dtype: int64"
      ]
     },
     "execution_count": 29,
     "metadata": {},
     "output_type": "execute_result"
    }
   ],
   "source": [
    "df_minor_upsmapled.charged_off.value_counts()"
   ]
  },
  {
   "cell_type": "code",
   "execution_count": 30,
   "metadata": {},
   "outputs": [],
   "source": [
    "X = df_minor_upsmapled.drop('charged_off', axis = 1)\n",
    "y = df_minor_upsmapled.charged_off"
   ]
  },
  {
   "cell_type": "markdown",
   "metadata": {},
   "source": [
    "#### Train Test Split"
   ]
  },
  {
   "cell_type": "markdown",
   "metadata": {},
   "source": [
    "Set X and y variables to the .values of the features and label."
   ]
  },
  {
   "cell_type": "code",
   "execution_count": 31,
   "metadata": {},
   "outputs": [],
   "source": [
    "X_train, X_test, y_train, y_test = train_test_split(X, y, test_size=0.10, random_state=1019)"
   ]
  },
  {
   "cell_type": "code",
   "execution_count": 32,
   "metadata": {},
   "outputs": [],
   "source": [
    "mms = StandardScaler()\n",
    "mms.fit(X_train)\n",
    "X_train_scaled = mms.transform(X_train)"
   ]
  },
  {
   "cell_type": "code",
   "execution_count": 33,
   "metadata": {},
   "outputs": [
    {
     "data": {
      "text/plain": [
       "(1874348, 22)"
      ]
     },
     "execution_count": 33,
     "metadata": {},
     "output_type": "execute_result"
    }
   ],
   "source": [
    "np.shape(df_minor_upsmapled)"
   ]
  },
  {
   "cell_type": "code",
   "execution_count": 34,
   "metadata": {},
   "outputs": [],
   "source": [
    "import lightgbm"
   ]
  },
  {
   "cell_type": "code",
   "execution_count": 35,
   "metadata": {},
   "outputs": [],
   "source": [
    "lbg_params = {\n",
    "    'n_estimators': 8000,\n",
    "    'max_depth': 100,\n",
    "    'objective': 'binary',\n",
    "    'learning_rate' : 0.02,\n",
    "    'num_leaves' : 250,\n",
    "    'feature_fraction': 0.64, \n",
    "    'bagging_fraction': 0.8, \n",
    "    'bagging_freq': 1,\n",
    "    'boosting_type' : 'gbdt'\n",
    "}"
   ]
  },
  {
   "cell_type": "code",
   "execution_count": 36,
   "metadata": {},
   "outputs": [],
   "source": [
    "lgb = lightgbm.LGBMClassifier(**lbg_params)"
   ]
  },
  {
   "cell_type": "code",
   "execution_count": 37,
   "metadata": {},
   "outputs": [
    {
     "name": "stdout",
     "output_type": "stream",
     "text": [
      "[LightGBM] [Warning] feature_fraction is set=0.64, colsample_bytree=1.0 will be ignored. Current value: feature_fraction=0.64\n",
      "[LightGBM] [Warning] bagging_fraction is set=0.8, subsample=1.0 will be ignored. Current value: bagging_fraction=0.8\n",
      "[LightGBM] [Warning] bagging_freq is set=1, subsample_freq=0 will be ignored. Current value: bagging_freq=1\n"
     ]
    },
    {
     "data": {
      "text/plain": [
       "LGBMClassifier(bagging_fraction=0.8, bagging_freq=1, feature_fraction=0.64,\n",
       "               learning_rate=0.02, max_depth=100, n_estimators=8000,\n",
       "               num_leaves=250, objective='binary')"
      ]
     },
     "execution_count": 37,
     "metadata": {},
     "output_type": "execute_result"
    }
   ],
   "source": [
    "lgb.fit(X_train_scaled, y_train)"
   ]
  },
  {
   "cell_type": "code",
   "execution_count": 38,
   "metadata": {},
   "outputs": [],
   "source": [
    "X_test_scaled = mms.transform(X_test)"
   ]
  },
  {
   "cell_type": "code",
   "execution_count": 39,
   "metadata": {},
   "outputs": [],
   "source": [
    "lgb_pred = lgb.predict(X_test_scaled)"
   ]
  },
  {
   "cell_type": "code",
   "execution_count": 40,
   "metadata": {},
   "outputs": [],
   "source": [
    "lgb_pred_proba = lgb.predict_proba(X_test_scaled)"
   ]
  },
  {
   "cell_type": "code",
   "execution_count": 42,
   "metadata": {},
   "outputs": [],
   "source": [
    "def evaluate_model(y_test, y_pred, y_pred_proba = None):\n",
    "    if y_pred_proba is not None:\n",
    "        print('ROC-AUC score of the model: {}'.format(roc_auc_score(y_test, y_pred_proba[:, 1])))\n",
    "    print('Accuracy of the model: {}\\n'.format(accuracy_score(y_test, y_pred)))\n",
    "    print('Classification report: \\n{}\\n'.format(classification_report(y_test, y_pred)))\n",
    "    print('Confusion matrix: \\n{}\\n'.format(confusion_matrix(y_test, y_pred)))"
   ]
  },
  {
   "cell_type": "code",
   "execution_count": 43,
   "metadata": {},
   "outputs": [
    {
     "name": "stdout",
     "output_type": "stream",
     "text": [
      "ROC-AUC score of the model: 0.9106973506684888\n",
      "Accuracy of the model: 0.8314509029796996\n",
      "\n",
      "Classification report: \n",
      "              precision    recall  f1-score   support\n",
      "\n",
      "           0       0.87      0.78      0.82     93597\n",
      "           1       0.80      0.88      0.84     93838\n",
      "\n",
      "    accuracy                           0.83    187435\n",
      "   macro avg       0.83      0.83      0.83    187435\n",
      "weighted avg       0.83      0.83      0.83    187435\n",
      "\n",
      "\n",
      "Confusion matrix: \n",
      "[[73059 20538]\n",
      " [11054 82784]]\n",
      "\n"
     ]
    }
   ],
   "source": [
    "evaluate_model(y_test, lgb_pred, lgb_pred_proba)"
   ]
  },
  {
   "cell_type": "markdown",
   "metadata": {},
   "source": [
    "Cross Validation"
   ]
  },
  {
   "cell_type": "code",
   "execution_count": 44,
   "metadata": {},
   "outputs": [],
   "source": [
    "folds = list(KFold(5, shuffle=True, random_state=1019).split(X_train_scaled, y_train))"
   ]
  },
  {
   "cell_type": "code",
   "execution_count": 45,
   "metadata": {},
   "outputs": [
    {
     "name": "stdout",
     "output_type": "stream",
     "text": [
      "[LightGBM] [Warning] feature_fraction is set=0.64, colsample_bytree=1.0 will be ignored. Current value: feature_fraction=0.64\n",
      "[LightGBM] [Warning] bagging_fraction is set=0.8, subsample=1.0 will be ignored. Current value: bagging_fraction=0.8\n",
      "[LightGBM] [Warning] bagging_freq is set=1, subsample_freq=0 will be ignored. Current value: bagging_freq=1\n",
      "\n",
      "cv: 0\n",
      "\n",
      "ROC-AUC score of the model: 0.9062132504674449\n",
      "Accuracy of the model: 0.8266895486731697\n",
      "\n",
      "Classification report: \n",
      "              precision    recall  f1-score   support\n",
      "\n",
      "           0       0.86      0.78      0.82    168603\n",
      "           1       0.80      0.88      0.83    168780\n",
      "\n",
      "    accuracy                           0.83    337383\n",
      "   macro avg       0.83      0.83      0.83    337383\n",
      "weighted avg       0.83      0.83      0.83    337383\n",
      "\n",
      "\n",
      "Confusion matrix: \n",
      "[[131188  37415]\n",
      " [ 21057 147723]]\n",
      "\n",
      "[LightGBM] [Warning] feature_fraction is set=0.64, colsample_bytree=1.0 will be ignored. Current value: feature_fraction=0.64\n",
      "[LightGBM] [Warning] bagging_fraction is set=0.8, subsample=1.0 will be ignored. Current value: bagging_fraction=0.8\n",
      "[LightGBM] [Warning] bagging_freq is set=1, subsample_freq=0 will be ignored. Current value: bagging_freq=1\n",
      "\n",
      "cv: 1\n",
      "\n",
      "ROC-AUC score of the model: 0.9053899392606957\n",
      "Accuracy of the model: 0.8247244229851534\n",
      "\n",
      "Classification report: \n",
      "              precision    recall  f1-score   support\n",
      "\n",
      "           0       0.86      0.78      0.82    168825\n",
      "           1       0.80      0.87      0.83    168558\n",
      "\n",
      "    accuracy                           0.82    337383\n",
      "   macro avg       0.83      0.82      0.82    337383\n",
      "weighted avg       0.83      0.82      0.82    337383\n",
      "\n",
      "\n",
      "Confusion matrix: \n",
      "[[131070  37755]\n",
      " [ 21380 147178]]\n",
      "\n",
      "[LightGBM] [Warning] feature_fraction is set=0.64, colsample_bytree=1.0 will be ignored. Current value: feature_fraction=0.64\n",
      "[LightGBM] [Warning] bagging_fraction is set=0.8, subsample=1.0 will be ignored. Current value: bagging_fraction=0.8\n",
      "[LightGBM] [Warning] bagging_freq is set=1, subsample_freq=0 will be ignored. Current value: bagging_freq=1\n",
      "\n",
      "cv: 2\n",
      "\n",
      "ROC-AUC score of the model: 0.9053499335853196\n",
      "Accuracy of the model: 0.8252549772810129\n",
      "\n",
      "Classification report: \n",
      "              precision    recall  f1-score   support\n",
      "\n",
      "           0       0.86      0.78      0.82    168739\n",
      "           1       0.80      0.87      0.83    168644\n",
      "\n",
      "    accuracy                           0.83    337383\n",
      "   macro avg       0.83      0.83      0.82    337383\n",
      "weighted avg       0.83      0.83      0.82    337383\n",
      "\n",
      "\n",
      "Confusion matrix: \n",
      "[[131208  37531]\n",
      " [ 21425 147219]]\n",
      "\n",
      "[LightGBM] [Warning] feature_fraction is set=0.64, colsample_bytree=1.0 will be ignored. Current value: feature_fraction=0.64\n",
      "[LightGBM] [Warning] bagging_fraction is set=0.8, subsample=1.0 will be ignored. Current value: bagging_fraction=0.8\n",
      "[LightGBM] [Warning] bagging_freq is set=1, subsample_freq=0 will be ignored. Current value: bagging_freq=1\n",
      "\n",
      "cv: 3\n",
      "\n",
      "ROC-AUC score of the model: 0.9053568836031853\n",
      "Accuracy of the model: 0.8249017434243676\n",
      "\n",
      "Classification report: \n",
      "              precision    recall  f1-score   support\n",
      "\n",
      "           0       0.86      0.78      0.82    168926\n",
      "           1       0.80      0.87      0.83    168456\n",
      "\n",
      "    accuracy                           0.82    337382\n",
      "   macro avg       0.83      0.82      0.82    337382\n",
      "weighted avg       0.83      0.82      0.82    337382\n",
      "\n",
      "\n",
      "Confusion matrix: \n",
      "[[131037  37889]\n",
      " [ 21186 147270]]\n",
      "\n",
      "[LightGBM] [Warning] feature_fraction is set=0.64, colsample_bytree=1.0 will be ignored. Current value: feature_fraction=0.64\n",
      "[LightGBM] [Warning] bagging_fraction is set=0.8, subsample=1.0 will be ignored. Current value: bagging_fraction=0.8\n",
      "[LightGBM] [Warning] bagging_freq is set=1, subsample_freq=0 will be ignored. Current value: bagging_freq=1\n",
      "\n",
      "cv: 4\n",
      "\n",
      "ROC-AUC score of the model: 0.9051612168820569\n",
      "Accuracy of the model: 0.8253255953192523\n",
      "\n",
      "Classification report: \n",
      "              precision    recall  f1-score   support\n",
      "\n",
      "           0       0.86      0.78      0.82    168484\n",
      "           1       0.80      0.87      0.83    168898\n",
      "\n",
      "    accuracy                           0.83    337382\n",
      "   macro avg       0.83      0.83      0.82    337382\n",
      "weighted avg       0.83      0.83      0.82    337382\n",
      "\n",
      "\n",
      "Confusion matrix: \n",
      "[[130746  37738]\n",
      " [ 21194 147704]]\n",
      "\n"
     ]
    }
   ],
   "source": [
    "for i, (train_idx, valid_idx) in enumerate(folds):\n",
    "    \n",
    "    y_train = np.array(y_train)\n",
    "    X_train_x = X_train_scaled[train_idx]\n",
    "    y_train_x = y_train[train_idx]\n",
    "    X_valid = X_train_scaled[valid_idx]\n",
    "    y_valid = y_train[valid_idx]\n",
    "    \n",
    "    lgb.fit(X_train_x, y_train_x)\n",
    "    pred = lgb.predict(X_valid)\n",
    "    pred_proba = lgb.predict_proba(X_valid)\n",
    "    \n",
    "    print('\\ncv: {}\\n'.format(i))\n",
    "    evaluate_model(y_valid, pred, pred_proba)"
   ]
  },
  {
   "cell_type": "code",
   "execution_count": 52,
   "metadata": {},
   "outputs": [],
   "source": [
    "def plot_ROC(X_test, Y_test, Y_prob):\n",
    "    \n",
    "    #Y_prob = model.predict_proba(X_test)[:,1]\n",
    "    fpr, tpr, thresh = roc_curve(Y_test, Y_prob, pos_label=1)\n",
    "    roc_auc = roc_auc_score(Y_test, Y_prob)\n",
    "    # These are the points at threshold = 0.1~0.5\n",
    "    x1 = fpr[(thresh <= 0.5) & (thresh >= 0.1)] \n",
    "    x2 = tpr[(thresh <= 0.5) & (thresh >= 0.1)]\n",
    "\n",
    "    fig = plt.figure()\n",
    "    plt.plot(fpr, tpr, color='r', lw=2)\n",
    "    plt.plot([0, 1], [0, 1], color='b', lw=2, linestyle='--')\n",
    "    plt.plot(x1, x2, color='k', lw=3, label='threshold = 0.1 ~ 0.5')\n",
    "    plt.xlim([-0.05, 1.05])\n",
    "    plt.ylim([-0.05, 1.05])\n",
    "    plt.xlabel('False Positive Rate')\n",
    "    plt.ylabel('True Positive Rate')\n",
    "    plt.title('ROC Curve (Area = {:.2f})'.format(roc_auc))\n",
    "    plt.legend(loc=\"lower right\")\n",
    "    plt.show()"
   ]
  },
  {
   "cell_type": "markdown",
   "metadata": {},
   "source": [
    "### Logistic Regression"
   ]
  },
  {
   "cell_type": "code",
   "execution_count": 47,
   "metadata": {},
   "outputs": [],
   "source": [
    "from sklearn.linear_model import LogisticRegression"
   ]
  },
  {
   "cell_type": "code",
   "execution_count": 48,
   "metadata": {},
   "outputs": [],
   "source": [
    "logisticRegr = LogisticRegression()"
   ]
  },
  {
   "cell_type": "code",
   "execution_count": 49,
   "metadata": {},
   "outputs": [
    {
     "data": {
      "text/plain": [
       "LogisticRegression()"
      ]
     },
     "execution_count": 49,
     "metadata": {},
     "output_type": "execute_result"
    }
   ],
   "source": [
    "logisticRegr.fit(X_train_scaled, y_train)"
   ]
  },
  {
   "cell_type": "code",
   "execution_count": 50,
   "metadata": {},
   "outputs": [],
   "source": [
    "lr_pred = logisticRegr.predict(X_test_scaled)"
   ]
  },
  {
   "cell_type": "code",
   "execution_count": 51,
   "metadata": {},
   "outputs": [
    {
     "name": "stdout",
     "output_type": "stream",
     "text": [
      "Accuracy of the model: 0.6535118841198282\n",
      "\n",
      "Classification report: \n",
      "              precision    recall  f1-score   support\n",
      "\n",
      "           0       0.65      0.66      0.66     93597\n",
      "           1       0.66      0.64      0.65     93838\n",
      "\n",
      "    accuracy                           0.65    187435\n",
      "   macro avg       0.65      0.65      0.65    187435\n",
      "weighted avg       0.65      0.65      0.65    187435\n",
      "\n",
      "\n",
      "Confusion matrix: \n",
      "[[62077 31520]\n",
      " [33424 60414]]\n",
      "\n"
     ]
    }
   ],
   "source": [
    "evaluate_model(y_test, lr_pred)"
   ]
  }
 ],
 "metadata": {
  "kernelspec": {
   "display_name": "Python [conda env:PythonAdv]",
   "language": "python",
   "name": "conda-env-PythonAdv-py"
  },
  "language_info": {
   "codemirror_mode": {
    "name": "ipython",
    "version": 3
   },
   "file_extension": ".py",
   "mimetype": "text/x-python",
   "name": "python",
   "nbconvert_exporter": "python",
   "pygments_lexer": "ipython3",
   "version": "3.6.12"
  }
 },
 "nbformat": 4,
 "nbformat_minor": 4
}
