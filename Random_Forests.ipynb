{
 "metadata": {
  "language_info": {
   "codemirror_mode": {
    "name": "ipython",
    "version": 3
   },
   "file_extension": ".py",
   "mimetype": "text/x-python",
   "name": "python",
   "nbconvert_exporter": "python",
   "pygments_lexer": "ipython3",
   "version": "3.6.10-final"
  },
  "orig_nbformat": 2,
  "kernelspec": {
   "name": "Python 3.6.10 64-bit ('PythonData')",
   "display_name": "Python 3.6.10 64-bit ('PythonData')",
   "metadata": {
    "interpreter": {
     "hash": "602ee6f262d9f79162a71cb80a4fe9fccd50f964242bb4d22a3d0f762da8e428"
    }
   }
  }
 },
 "nbformat": 4,
 "nbformat_minor": 2,
 "cells": [
  {
   "cell_type": "code",
   "execution_count": 159,
   "metadata": {},
   "outputs": [],
   "source": [
    "from sklearn.ensemble import RandomForestClassifier\n",
    "from sklearn.preprocessing import LabelEncoder\n",
    "from sklearn.model_selection import train_test_split\n",
    "from sklearn.model_selection import GridSearchCV\n",
    "from sklearn.metrics import classification_report\n",
    "from sklearn.inspection import permutation_importance\n",
    "from sklearn.metrics import f1_score\n",
    "from sklearn.metrics import confusion_matrix\n",
    "from sklearn.utils import resample\n",
    "import numpy as np\n",
    "import pandas as pd\n",
    "import matplotlib.pyplot as plt"
   ]
  },
  {
   "cell_type": "code",
   "execution_count": 160,
   "metadata": {},
   "outputs": [
    {
     "output_type": "execute_result",
     "data": {
      "text/plain": [
       "   Unnamed: 0  loan_amnt  term  int_rate sub_grade  emp_length home_ownership  \\\n",
       "0           0     3600.0    36     13.99        C4        10.0       MORTGAGE   \n",
       "1           1    24700.0    36     11.99        C1        10.0       MORTGAGE   \n",
       "2           2    20000.0    60     10.78        B4        10.0       MORTGAGE   \n",
       "3           4    10400.0    60     22.45        F1         3.0       MORTGAGE   \n",
       "4           5    11950.0    36     13.44        C3         4.0           RENT   \n",
       "\n",
       "   annual_inc verification_status             purpose  ... pub_rec  revol_bal  \\\n",
       "0    4.740371        Not Verified  debt_consolidation  ...     0.0   3.441852   \n",
       "1    4.812920        Not Verified      small_business  ...     0.0   4.331852   \n",
       "2    4.799347        Not Verified    home_improvement  ...     0.0   3.895975   \n",
       "3    5.018842     Source Verified      major_purchase  ...     0.0   4.341039   \n",
       "4    4.531492     Source Verified  debt_consolidation  ...     0.0   3.945616   \n",
       "\n",
       "   revol_util  initial_list_status  application_type  mo_sin_old_il_acct  \\\n",
       "0        29.7                    w        Individual               148.0   \n",
       "1        19.2                    w        Individual               113.0   \n",
       "2        56.2                    w         Joint App               125.0   \n",
       "3        64.5                    w        Individual               128.0   \n",
       "4        68.4                    w        Individual               338.0   \n",
       "\n",
       "  mort_acc earliest_cr_year  fico_score  charged_off  \n",
       "0      1.0             2003       677.0            0  \n",
       "1      4.0             1999       717.0            0  \n",
       "2      5.0             2000       697.0            0  \n",
       "3      6.0             1998       697.0            0  \n",
       "4      0.0             1987       692.0            0  \n",
       "\n",
       "[5 rows x 23 columns]"
      ],
      "text/html": "<div>\n<style scoped>\n    .dataframe tbody tr th:only-of-type {\n        vertical-align: middle;\n    }\n\n    .dataframe tbody tr th {\n        vertical-align: top;\n    }\n\n    .dataframe thead th {\n        text-align: right;\n    }\n</style>\n<table border=\"1\" class=\"dataframe\">\n  <thead>\n    <tr style=\"text-align: right;\">\n      <th></th>\n      <th>Unnamed: 0</th>\n      <th>loan_amnt</th>\n      <th>term</th>\n      <th>int_rate</th>\n      <th>sub_grade</th>\n      <th>emp_length</th>\n      <th>home_ownership</th>\n      <th>annual_inc</th>\n      <th>verification_status</th>\n      <th>purpose</th>\n      <th>...</th>\n      <th>pub_rec</th>\n      <th>revol_bal</th>\n      <th>revol_util</th>\n      <th>initial_list_status</th>\n      <th>application_type</th>\n      <th>mo_sin_old_il_acct</th>\n      <th>mort_acc</th>\n      <th>earliest_cr_year</th>\n      <th>fico_score</th>\n      <th>charged_off</th>\n    </tr>\n  </thead>\n  <tbody>\n    <tr>\n      <th>0</th>\n      <td>0</td>\n      <td>3600.0</td>\n      <td>36</td>\n      <td>13.99</td>\n      <td>C4</td>\n      <td>10.0</td>\n      <td>MORTGAGE</td>\n      <td>4.740371</td>\n      <td>Not Verified</td>\n      <td>debt_consolidation</td>\n      <td>...</td>\n      <td>0.0</td>\n      <td>3.441852</td>\n      <td>29.7</td>\n      <td>w</td>\n      <td>Individual</td>\n      <td>148.0</td>\n      <td>1.0</td>\n      <td>2003</td>\n      <td>677.0</td>\n      <td>0</td>\n    </tr>\n    <tr>\n      <th>1</th>\n      <td>1</td>\n      <td>24700.0</td>\n      <td>36</td>\n      <td>11.99</td>\n      <td>C1</td>\n      <td>10.0</td>\n      <td>MORTGAGE</td>\n      <td>4.812920</td>\n      <td>Not Verified</td>\n      <td>small_business</td>\n      <td>...</td>\n      <td>0.0</td>\n      <td>4.331852</td>\n      <td>19.2</td>\n      <td>w</td>\n      <td>Individual</td>\n      <td>113.0</td>\n      <td>4.0</td>\n      <td>1999</td>\n      <td>717.0</td>\n      <td>0</td>\n    </tr>\n    <tr>\n      <th>2</th>\n      <td>2</td>\n      <td>20000.0</td>\n      <td>60</td>\n      <td>10.78</td>\n      <td>B4</td>\n      <td>10.0</td>\n      <td>MORTGAGE</td>\n      <td>4.799347</td>\n      <td>Not Verified</td>\n      <td>home_improvement</td>\n      <td>...</td>\n      <td>0.0</td>\n      <td>3.895975</td>\n      <td>56.2</td>\n      <td>w</td>\n      <td>Joint App</td>\n      <td>125.0</td>\n      <td>5.0</td>\n      <td>2000</td>\n      <td>697.0</td>\n      <td>0</td>\n    </tr>\n    <tr>\n      <th>3</th>\n      <td>4</td>\n      <td>10400.0</td>\n      <td>60</td>\n      <td>22.45</td>\n      <td>F1</td>\n      <td>3.0</td>\n      <td>MORTGAGE</td>\n      <td>5.018842</td>\n      <td>Source Verified</td>\n      <td>major_purchase</td>\n      <td>...</td>\n      <td>0.0</td>\n      <td>4.341039</td>\n      <td>64.5</td>\n      <td>w</td>\n      <td>Individual</td>\n      <td>128.0</td>\n      <td>6.0</td>\n      <td>1998</td>\n      <td>697.0</td>\n      <td>0</td>\n    </tr>\n    <tr>\n      <th>4</th>\n      <td>5</td>\n      <td>11950.0</td>\n      <td>36</td>\n      <td>13.44</td>\n      <td>C3</td>\n      <td>4.0</td>\n      <td>RENT</td>\n      <td>4.531492</td>\n      <td>Source Verified</td>\n      <td>debt_consolidation</td>\n      <td>...</td>\n      <td>0.0</td>\n      <td>3.945616</td>\n      <td>68.4</td>\n      <td>w</td>\n      <td>Individual</td>\n      <td>338.0</td>\n      <td>0.0</td>\n      <td>1987</td>\n      <td>692.0</td>\n      <td>0</td>\n    </tr>\n  </tbody>\n</table>\n<p>5 rows × 23 columns</p>\n</div>"
     },
     "metadata": {},
     "execution_count": 160
    }
   ],
   "source": [
    "# Read in loan data\n",
    "df = pd.read_csv('output/LC_Final.csv.gz', compression='gzip')\n",
    "df.head()"
   ]
  },
  {
   "cell_type": "code",
   "execution_count": 161,
   "metadata": {
    "tags": []
   },
   "outputs": [
    {
     "output_type": "stream",
     "name": "stdout",
     "text": [
      "Index(['loan_amnt', 'term', 'int_rate', 'sub_grade', 'emp_length',\n       'home_ownership', 'annual_inc', 'verification_status', 'purpose',\n       'addr_state', 'dti', 'open_acc', 'pub_rec', 'revol_bal', 'revol_util',\n       'initial_list_status', 'application_type', 'mo_sin_old_il_acct',\n       'mort_acc', 'earliest_cr_year', 'fico_score', 'charged_off'],\n      dtype='object')\n"
     ]
    }
   ],
   "source": [
    "# Drop extra index column\n",
    "df = df.drop('Unnamed: 0', axis=1)\n",
    "print(df.columns)"
   ]
  },
  {
   "cell_type": "code",
   "execution_count": 162,
   "metadata": {},
   "outputs": [
    {
     "output_type": "stream",
     "name": "stdout",
     "text": [
      "float64\nint64\nfloat64\nobject\nfloat64\nobject\nfloat64\nobject\nobject\nobject\nfloat64\nfloat64\nfloat64\nfloat64\nfloat64\nobject\nobject\nfloat64\nfloat64\nint64\nfloat64\nint64\n"
     ]
    }
   ],
   "source": [
    "# check for columns needing label encoding\n",
    "for col in df.columns.values:\n",
    "    # Encode only the columns with categorical values\n",
    "    print(df[col].dtypes)"
   ]
  },
  {
   "cell_type": "code",
   "execution_count": 163,
   "metadata": {
    "tags": []
   },
   "outputs": [
    {
     "output_type": "execute_result",
     "data": {
      "text/plain": [
       "   loan_amnt  term  int_rate  sub_grade  emp_length  home_ownership  \\\n",
       "0     3600.0    36     13.99         13        10.0               0   \n",
       "1    24700.0    36     11.99         10        10.0               0   \n",
       "2    20000.0    60     10.78          8        10.0               0   \n",
       "3    10400.0    60     22.45         25         3.0               0   \n",
       "4    11950.0    36     13.44         12         4.0               3   \n",
       "\n",
       "   annual_inc  verification_status  purpose  addr_state  ...  pub_rec  \\\n",
       "0    4.740371                    0        2          38  ...      0.0   \n",
       "1    4.812920                    0       11          41  ...      0.0   \n",
       "2    4.799347                    0        4          14  ...      0.0   \n",
       "3    5.018842                    1        6          38  ...      0.0   \n",
       "4    4.531492                    1        2          10  ...      0.0   \n",
       "\n",
       "   revol_bal  revol_util  initial_list_status  application_type  \\\n",
       "0   3.441852        29.7                    1                 0   \n",
       "1   4.331852        19.2                    1                 0   \n",
       "2   3.895975        56.2                    1                 1   \n",
       "3   4.341039        64.5                    1                 0   \n",
       "4   3.945616        68.4                    1                 0   \n",
       "\n",
       "   mo_sin_old_il_acct  mort_acc  earliest_cr_year  fico_score  charged_off  \n",
       "0               148.0       1.0              2003       677.0            0  \n",
       "1               113.0       4.0              1999       717.0            0  \n",
       "2               125.0       5.0              2000       697.0            0  \n",
       "3               128.0       6.0              1998       697.0            0  \n",
       "4               338.0       0.0              1987       692.0            0  \n",
       "\n",
       "[5 rows x 22 columns]"
      ],
      "text/html": "<div>\n<style scoped>\n    .dataframe tbody tr th:only-of-type {\n        vertical-align: middle;\n    }\n\n    .dataframe tbody tr th {\n        vertical-align: top;\n    }\n\n    .dataframe thead th {\n        text-align: right;\n    }\n</style>\n<table border=\"1\" class=\"dataframe\">\n  <thead>\n    <tr style=\"text-align: right;\">\n      <th></th>\n      <th>loan_amnt</th>\n      <th>term</th>\n      <th>int_rate</th>\n      <th>sub_grade</th>\n      <th>emp_length</th>\n      <th>home_ownership</th>\n      <th>annual_inc</th>\n      <th>verification_status</th>\n      <th>purpose</th>\n      <th>addr_state</th>\n      <th>...</th>\n      <th>pub_rec</th>\n      <th>revol_bal</th>\n      <th>revol_util</th>\n      <th>initial_list_status</th>\n      <th>application_type</th>\n      <th>mo_sin_old_il_acct</th>\n      <th>mort_acc</th>\n      <th>earliest_cr_year</th>\n      <th>fico_score</th>\n      <th>charged_off</th>\n    </tr>\n  </thead>\n  <tbody>\n    <tr>\n      <th>0</th>\n      <td>3600.0</td>\n      <td>36</td>\n      <td>13.99</td>\n      <td>13</td>\n      <td>10.0</td>\n      <td>0</td>\n      <td>4.740371</td>\n      <td>0</td>\n      <td>2</td>\n      <td>38</td>\n      <td>...</td>\n      <td>0.0</td>\n      <td>3.441852</td>\n      <td>29.7</td>\n      <td>1</td>\n      <td>0</td>\n      <td>148.0</td>\n      <td>1.0</td>\n      <td>2003</td>\n      <td>677.0</td>\n      <td>0</td>\n    </tr>\n    <tr>\n      <th>1</th>\n      <td>24700.0</td>\n      <td>36</td>\n      <td>11.99</td>\n      <td>10</td>\n      <td>10.0</td>\n      <td>0</td>\n      <td>4.812920</td>\n      <td>0</td>\n      <td>11</td>\n      <td>41</td>\n      <td>...</td>\n      <td>0.0</td>\n      <td>4.331852</td>\n      <td>19.2</td>\n      <td>1</td>\n      <td>0</td>\n      <td>113.0</td>\n      <td>4.0</td>\n      <td>1999</td>\n      <td>717.0</td>\n      <td>0</td>\n    </tr>\n    <tr>\n      <th>2</th>\n      <td>20000.0</td>\n      <td>60</td>\n      <td>10.78</td>\n      <td>8</td>\n      <td>10.0</td>\n      <td>0</td>\n      <td>4.799347</td>\n      <td>0</td>\n      <td>4</td>\n      <td>14</td>\n      <td>...</td>\n      <td>0.0</td>\n      <td>3.895975</td>\n      <td>56.2</td>\n      <td>1</td>\n      <td>1</td>\n      <td>125.0</td>\n      <td>5.0</td>\n      <td>2000</td>\n      <td>697.0</td>\n      <td>0</td>\n    </tr>\n    <tr>\n      <th>3</th>\n      <td>10400.0</td>\n      <td>60</td>\n      <td>22.45</td>\n      <td>25</td>\n      <td>3.0</td>\n      <td>0</td>\n      <td>5.018842</td>\n      <td>1</td>\n      <td>6</td>\n      <td>38</td>\n      <td>...</td>\n      <td>0.0</td>\n      <td>4.341039</td>\n      <td>64.5</td>\n      <td>1</td>\n      <td>0</td>\n      <td>128.0</td>\n      <td>6.0</td>\n      <td>1998</td>\n      <td>697.0</td>\n      <td>0</td>\n    </tr>\n    <tr>\n      <th>4</th>\n      <td>11950.0</td>\n      <td>36</td>\n      <td>13.44</td>\n      <td>12</td>\n      <td>4.0</td>\n      <td>3</td>\n      <td>4.531492</td>\n      <td>1</td>\n      <td>2</td>\n      <td>10</td>\n      <td>...</td>\n      <td>0.0</td>\n      <td>3.945616</td>\n      <td>68.4</td>\n      <td>1</td>\n      <td>0</td>\n      <td>338.0</td>\n      <td>0.0</td>\n      <td>1987</td>\n      <td>692.0</td>\n      <td>0</td>\n    </tr>\n  </tbody>\n</table>\n<p>5 rows × 22 columns</p>\n</div>"
     },
     "metadata": {},
     "execution_count": 163
    }
   ],
   "source": [
    "# Label encoding categorical values\n",
    "le = LabelEncoder()\n",
    "\n",
    "# Iterate over columns in dataframe\n",
    "for col in df.columns.values:\n",
    "    # Encode only the columns with categorical values\n",
    "    if df[col].dtypes == 'object':\n",
    "        data = df[col].append(df[col])\n",
    "        le.fit(data.values)\n",
    "        df[col] = le.transform(df[col])\n",
    "        \n",
    "df.head()"
   ]
  },
  {
   "cell_type": "code",
   "execution_count": 164,
   "metadata": {
    "tags": []
   },
   "outputs": [
    {
     "output_type": "stream",
     "name": "stdout",
     "text": [
      "float64\nint64\nfloat64\nint32\nfloat64\nint32\nfloat64\nint32\nint32\nint32\nfloat64\nfloat64\nfloat64\nfloat64\nfloat64\nint32\nint32\nfloat64\nfloat64\nint64\nfloat64\nint64\n"
     ]
    }
   ],
   "source": [
    "# Confirm label encoding\n",
    "for col in df.columns.values:\n",
    "    # Encode only the columns with categorical values\n",
    "    print(df[col].dtypes)"
   ]
  },
  {
   "cell_type": "code",
   "execution_count": 165,
   "metadata": {},
   "outputs": [
    {
     "output_type": "execute_result",
     "data": {
      "text/plain": [
       "loan_amnt              False\n",
       "term                   False\n",
       "int_rate               False\n",
       "sub_grade              False\n",
       "emp_length              True\n",
       "home_ownership         False\n",
       "annual_inc             False\n",
       "verification_status    False\n",
       "purpose                False\n",
       "addr_state             False\n",
       "dti                     True\n",
       "open_acc               False\n",
       "pub_rec                False\n",
       "revol_bal              False\n",
       "revol_util              True\n",
       "initial_list_status    False\n",
       "application_type       False\n",
       "mo_sin_old_il_acct      True\n",
       "mort_acc                True\n",
       "earliest_cr_year       False\n",
       "fico_score             False\n",
       "charged_off            False\n",
       "dtype: bool"
      ]
     },
     "metadata": {},
     "execution_count": 165
    }
   ],
   "source": [
    "# Check for null values\n",
    "df.isna().any()"
   ]
  },
  {
   "cell_type": "code",
   "execution_count": 166,
   "metadata": {},
   "outputs": [
    {
     "output_type": "execute_result",
     "data": {
      "text/plain": [
       "loan_amnt                   0\n",
       "term                        0\n",
       "int_rate                    0\n",
       "sub_grade                   0\n",
       "emp_length              78511\n",
       "home_ownership              0\n",
       "annual_inc                  0\n",
       "verification_status         0\n",
       "purpose                     0\n",
       "addr_state                  0\n",
       "dti                       374\n",
       "open_acc                    0\n",
       "pub_rec                     0\n",
       "revol_bal                   0\n",
       "revol_util                857\n",
       "initial_list_status         0\n",
       "application_type            0\n",
       "mo_sin_old_il_acct     105575\n",
       "mort_acc                47281\n",
       "earliest_cr_year            0\n",
       "fico_score                  0\n",
       "charged_off                 0\n",
       "dtype: int64"
      ]
     },
     "metadata": {},
     "execution_count": 166
    }
   ],
   "source": [
    "# Check number of null values\n",
    "df.isna().sum()"
   ]
  },
  {
   "cell_type": "code",
   "execution_count": 167,
   "metadata": {},
   "outputs": [],
   "source": [
    "# Drop null values\n",
    "df.dropna(inplace=True)"
   ]
  },
  {
   "cell_type": "code",
   "execution_count": 36,
   "metadata": {},
   "outputs": [],
   "source": [
    "#Null Value Imputation Option\n",
    "rev_null=['emp_length', 'dti', 'revol_util', 'mo_sin_old_il_acct', 'mort_acc',]\n",
    "df[rev_null]=df[rev_null].replace({np.nan:df['emp_length'].mean(),\n",
    "                                   np.nan:df['dti'].mean(),\n",
    "                                   np.nan:df['revol_util'].mean(),\n",
    "                                   np.nan:df['mo_sin_old_il_acct'].mean(),\n",
    "                                   np.nan:df['mort_acc'].mean()})"
   ]
  },
  {
   "cell_type": "code",
   "execution_count": 168,
   "metadata": {},
   "outputs": [
    {
     "output_type": "execute_result",
     "data": {
      "text/plain": [
       "loan_amnt              False\n",
       "term                   False\n",
       "int_rate               False\n",
       "sub_grade              False\n",
       "emp_length             False\n",
       "home_ownership         False\n",
       "annual_inc             False\n",
       "verification_status    False\n",
       "purpose                False\n",
       "addr_state             False\n",
       "dti                    False\n",
       "open_acc               False\n",
       "pub_rec                False\n",
       "revol_bal              False\n",
       "revol_util             False\n",
       "initial_list_status    False\n",
       "application_type       False\n",
       "mo_sin_old_il_acct     False\n",
       "mort_acc               False\n",
       "earliest_cr_year       False\n",
       "fico_score             False\n",
       "charged_off            False\n",
       "dtype: bool"
      ]
     },
     "metadata": {},
     "execution_count": 168
    }
   ],
   "source": [
    "# Confirm null values removed\n",
    "df.isna().any()"
   ]
  },
  {
   "cell_type": "code",
   "execution_count": 169,
   "metadata": {},
   "outputs": [
    {
     "output_type": "execute_result",
     "data": {
      "text/plain": [
       "0    937174\n",
       "1    230778\n",
       "Name: charged_off, dtype: int64"
      ]
     },
     "metadata": {},
     "execution_count": 169
    }
   ],
   "source": [
    "# Checking ratio of charged off data\n",
    "df['charged_off'].value_counts()"
   ]
  },
  {
   "cell_type": "code",
   "execution_count": 197,
   "metadata": {},
   "outputs": [
    {
     "output_type": "execute_result",
     "data": {
      "text/plain": [
       "0    4073\n",
       "1     927\n",
       "Name: charged_off, dtype: int64"
      ]
     },
     "metadata": {},
     "execution_count": 197
    }
   ],
   "source": [
    "cropped_df = df.iloc[0:5000,:]\n",
    "cropped_df['charged_off'].value_counts()"
   ]
  },
  {
   "cell_type": "code",
   "execution_count": 198,
   "metadata": {},
   "outputs": [],
   "source": [
    "cropped_df = df.iloc[0:5000,:]\n",
    "\n",
    "cropped_df_major = cropped_df[cropped_df.charged_off == 0]\n",
    "cropped_df_minor = cropped_df[cropped_df.charged_off == 1]\n",
    "cdf_minor_upsmapled = resample(cropped_df_minor, replace = True, n_samples = 4073, random_state = 1019)\n",
    "cdf_minor_upsmapled = pd.concat([cdf_minor_upsmapled, cropped_df_major])\n",
    "\n",
    "ctarget = cdf_minor_upsmapled[\"charged_off\"]\n",
    "cdata = cdf_minor_upsmapled.drop(\"charged_off\", axis=1)"
   ]
  },
  {
   "cell_type": "code",
   "execution_count": 150,
   "metadata": {},
   "outputs": [
    {
     "output_type": "execute_result",
     "data": {
      "text/plain": [
       "1    835\n",
       "0    835\n",
       "Name: charged_off, dtype: int64"
      ]
     },
     "metadata": {},
     "execution_count": 150
    }
   ],
   "source": [
    "#cropped_df['charged_off'].value_counts()\n",
    "cdf_minor_upsmapled.charged_off.value_counts()"
   ]
  },
  {
   "cell_type": "code",
   "execution_count": 170,
   "metadata": {},
   "outputs": [
    {
     "output_type": "execute_result",
     "data": {
      "text/plain": [
       "1    937174\n",
       "0    937174\n",
       "Name: charged_off, dtype: int64"
      ]
     },
     "metadata": {},
     "execution_count": 170
    }
   ],
   "source": [
    "df_major = df[df.charged_off == 0]\n",
    "df_minor = df[df.charged_off == 1]\n",
    "df_minor_upsmapled = resample(df_minor, replace = True, n_samples = 937174, random_state = 1019)\n",
    "df_minor_upsmapled = pd.concat([df_minor_upsmapled, df_major])\n",
    "df_minor_upsmapled.charged_off.value_counts()"
   ]
  },
  {
   "cell_type": "code",
   "execution_count": 171,
   "metadata": {},
   "outputs": [],
   "source": [
    "# Separate the targeted 'charged_off' column to create training/testing sets\n",
    "target = df_minor_upsmapled[\"charged_off\"]\n",
    "target_names = [\"Approve\", \"Deny\"]\n",
    "\n",
    "data = df_minor_upsmapled.drop(\"charged_off\", axis=1)\n",
    "feature_names = data.columns"
   ]
  },
  {
   "cell_type": "code",
   "execution_count": 41,
   "metadata": {},
   "outputs": [],
   "source": [
    "# Split the dataset in 80:20 ratio for training and test\n",
    "X_train, X_test, y_train, y_test = train_test_split(data, target, test_size = 0.2, random_state=42)"
   ]
  },
  {
   "cell_type": "code",
   "execution_count": 172,
   "metadata": {},
   "outputs": [],
   "source": [
    "# Split the dataset in 60:20:20 ratio for training, validation, test\n",
    "X_train, X_test, y_train, y_test = train_test_split(data, target, test_size=0.2, random_state=42)\n",
    "\n",
    "X_train, X_val, y_train, y_val = train_test_split(X_train, y_train, test_size=0.25, random_state=42) # 0.25 x 0.8 = 0.2"
   ]
  },
  {
   "cell_type": "code",
   "execution_count": 200,
   "metadata": {},
   "outputs": [],
   "source": [
    "CX_train, CX_test, cy_train, cy_test = train_test_split(cdata, ctarget, test_size=0.2, random_state=42)\n",
    "\n",
    "CX_train, CX_val, cy_train, cy_val = train_test_split(CX_train, cy_train, test_size=0.25, random_state=42) # 0.25 x 0.8 = 0.2"
   ]
  },
  {
   "cell_type": "code",
   "execution_count": 173,
   "metadata": {
    "tags": []
   },
   "outputs": [
    {
     "output_type": "stream",
     "name": "stdout",
     "text": [
      "Shape of X_train => (1124608, 21)\nShape of X_val => (374870, 21)\nShape of X_test => (374870, 21)\nShape of Y_train => (1124608,)\nShape of Y_val => (374870,)\nShape of Y_test => (374870,)\n"
     ]
    }
   ],
   "source": [
    "# Print out the shape of the created train/test sets\n",
    "print('Shape of X_train =>',X_train.shape)\n",
    "print('Shape of X_val =>',X_val.shape)\n",
    "print('Shape of X_test =>',X_test.shape)\n",
    "print('Shape of Y_train =>',y_train.shape)\n",
    "print('Shape of Y_val =>',y_val.shape)\n",
    "print('Shape of Y_test =>',y_test.shape)"
   ]
  },
  {
   "cell_type": "code",
   "execution_count": 174,
   "metadata": {},
   "outputs": [],
   "source": [
    "# Build the random forest classifier\n",
    "rfc = RandomForestClassifier(criterion = 'gini', max_depth = 15, n_estimators = 750)"
   ]
  },
  {
   "cell_type": "code",
   "execution_count": 201,
   "metadata": {},
   "outputs": [],
   "source": [
    "crfc = RandomForestClassifier(criterion = 'gini', max_depth = 15, n_estimators = 750)"
   ]
  },
  {
   "cell_type": "code",
   "execution_count": 101,
   "metadata": {},
   "outputs": [],
   "source": [
    "cparam_grid = {'max_features': ['auto', 'sqrt', 'log2'],\n",
    "               'n_estimators': [100, 500, 750],\n",
    "               'max_depth': [5, 15, 30],\n",
    "               'criterion' : ['gini', 'entropy']}\n",
    "grid = GridSearchCV(crfc, cparam_grid)"
   ]
  },
  {
   "cell_type": "code",
   "execution_count": 125,
   "metadata": {},
   "outputs": [
    {
     "output_type": "execute_result",
     "data": {
      "text/plain": [
       "GridSearchCV(cv=None, error_score=nan,\n",
       "             estimator=RandomForestClassifier(bootstrap=True, ccp_alpha=0.0,\n",
       "                                              class_weight=None,\n",
       "                                              criterion='gini', max_depth=15,\n",
       "                                              max_features='auto',\n",
       "                                              max_leaf_nodes=None,\n",
       "                                              max_samples=None,\n",
       "                                              min_impurity_decrease=0.0,\n",
       "                                              min_impurity_split=None,\n",
       "                                              min_samples_leaf=1,\n",
       "                                              min_samples_split=2,\n",
       "                                              min_weight_fraction_leaf=0.0,\n",
       "                                              n_estimators=750, n_jobs=None,\n",
       "                                              oob_score=False,\n",
       "                                              random_state=None, verbose=0,\n",
       "                                              warm_start=False),\n",
       "             iid='deprecated', n_jobs=None,\n",
       "             param_grid={'min_samples_leaf': [1, 5, 10]},\n",
       "             pre_dispatch='2*n_jobs', refit=True, return_train_score=False,\n",
       "             scoring=None, verbose=0)"
      ]
     },
     "metadata": {},
     "execution_count": 125
    }
   ],
   "source": [
    "grid.fit(X_val, y_val)"
   ]
  },
  {
   "cell_type": "code",
   "execution_count": 103,
   "metadata": {},
   "outputs": [
    {
     "output_type": "stream",
     "name": "stdout",
     "text": [
      "{'criterion': 'gini', 'max_depth': 15, 'max_features': 'auto', 'n_estimators': 750}\n"
     ]
    }
   ],
   "source": [
    "# List the best parameters for this dataset\n",
    "print(grid.best_params_)"
   ]
  },
  {
   "cell_type": "code",
   "execution_count": 104,
   "metadata": {},
   "outputs": [
    {
     "output_type": "stream",
     "name": "stdout",
     "text": [
      "0.8052793127896894\n"
     ]
    }
   ],
   "source": [
    "# List the best score\n",
    "print(grid.best_score_)"
   ]
  },
  {
   "cell_type": "code",
   "execution_count": 202,
   "metadata": {},
   "outputs": [],
   "source": [
    "crfc = crfc.fit(CX_train, cy_train)"
   ]
  },
  {
   "cell_type": "code",
   "execution_count": 175,
   "metadata": {},
   "outputs": [],
   "source": [
    "rfc = rfc.fit(X_train, y_train)"
   ]
  },
  {
   "cell_type": "code",
   "execution_count": 203,
   "metadata": {},
   "outputs": [],
   "source": [
    "cpredval = crfc.predict(CX_val)"
   ]
  },
  {
   "cell_type": "code",
   "execution_count": 176,
   "metadata": {},
   "outputs": [],
   "source": [
    "predval = rfc.predict(X_val)"
   ]
  },
  {
   "cell_type": "code",
   "execution_count": 70,
   "metadata": {},
   "outputs": [
    {
     "output_type": "execute_result",
     "data": {
      "text/plain": [
       "187940"
      ]
     },
     "metadata": {},
     "execution_count": 70
    }
   ],
   "source": [
    "(y_val == predval).sum()"
   ]
  },
  {
   "cell_type": "code",
   "execution_count": 204,
   "metadata": {},
   "outputs": [
    {
     "output_type": "stream",
     "name": "stdout",
     "text": [
      "              precision    recall  f1-score   support\n\n     Approve       0.95      0.88      0.91       823\n        Deny       0.88      0.95      0.91       806\n\n    accuracy                           0.91      1629\n   macro avg       0.91      0.91      0.91      1629\nweighted avg       0.91      0.91      0.91      1629\n\n"
     ]
    }
   ],
   "source": [
    "print(classification_report(cy_val, cpredval, target_names=target_names))"
   ]
  },
  {
   "cell_type": "code",
   "execution_count": 205,
   "metadata": {},
   "outputs": [],
   "source": [
    "cpredtest = crfc.predict(CX_test)"
   ]
  },
  {
   "cell_type": "code",
   "execution_count": 206,
   "metadata": {},
   "outputs": [
    {
     "output_type": "stream",
     "name": "stdout",
     "text": [
      "              precision    recall  f1-score   support\n\n     Approve       0.95      0.87      0.91       812\n        Deny       0.88      0.95      0.91       818\n\n    accuracy                           0.91      1630\n   macro avg       0.91      0.91      0.91      1630\nweighted avg       0.91      0.91      0.91      1630\n\n"
     ]
    }
   ],
   "source": [
    "print(classification_report(cy_test, cpredtest, target_names=target_names))"
   ]
  },
  {
   "cell_type": "code",
   "execution_count": 207,
   "metadata": {},
   "outputs": [
    {
     "output_type": "execute_result",
     "data": {
      "text/plain": [
       "0.90920245398773"
      ]
     },
     "metadata": {},
     "execution_count": 207
    }
   ],
   "source": [
    "crfc.score(CX_test, cy_test)"
   ]
  },
  {
   "cell_type": "code",
   "execution_count": 107,
   "metadata": {},
   "outputs": [
    {
     "output_type": "stream",
     "name": "stdout",
     "text": [
      "              precision    recall  f1-score   support\n\n     Approve       0.98      0.91      0.95       173\n        Deny       0.91      0.98      0.95       161\n\n    accuracy                           0.95       334\n   macro avg       0.95      0.95      0.95       334\nweighted avg       0.95      0.95      0.95       334\n\n"
     ]
    }
   ],
   "source": [
    "# After resampling, but before hypertuning\n",
    "print(classification_report(cy_val, cpredval, target_names=target_names))"
   ]
  },
  {
   "cell_type": "code",
   "execution_count": 186,
   "metadata": {},
   "outputs": [
    {
     "output_type": "stream",
     "name": "stdout",
     "text": [
      "int_rate             Importance: 0.09\nsub_grade            Importance: 0.09\ndti                  Importance: 0.08\nloan_amnt            Importance: 0.07\nrevol_bal            Importance: 0.07\nrevol_util           Importance: 0.07\nmo_sin_old_il_acct   Importance: 0.07\nfico_score           Importance: 0.07\nannual_inc           Importance: 0.06\nearliest_cr_year     Importance: 0.06\naddr_state           Importance: 0.05\nopen_acc             Importance: 0.05\nmort_acc             Importance: 0.04\nterm                 Importance: 0.03\nemp_length           Importance: 0.03\npurpose              Importance: 0.03\nhome_ownership       Importance: 0.02\nverification_status  Importance: 0.02\npub_rec              Importance: 0.01\ninitial_list_status  Importance: 0.0\napplication_type     Importance: 0.0\n"
     ]
    },
    {
     "output_type": "execute_result",
     "data": {
      "text/plain": [
       "[None,\n",
       " None,\n",
       " None,\n",
       " None,\n",
       " None,\n",
       " None,\n",
       " None,\n",
       " None,\n",
       " None,\n",
       " None,\n",
       " None,\n",
       " None,\n",
       " None,\n",
       " None,\n",
       " None,\n",
       " None,\n",
       " None,\n",
       " None,\n",
       " None,\n",
       " None,\n",
       " None]"
      ]
     },
     "metadata": {},
     "execution_count": 186
    }
   ],
   "source": [
    "# Get numerical feature importances\n",
    "importances = list(crfc.feature_importances_)\n",
    "# List of tuples with variable and importance\n",
    "feature_importances = [(feature, round(importance, 2)) for feature, importance in zip(feature_names, importances)]\n",
    "# Sort the feature importances by most important first\n",
    "feature_importances = sorted(feature_importances, key = lambda x: x[1], reverse = True)\n",
    "# Print out the feature and importances \n",
    "[print('{:20} Importance: {}'.format(*pair)) for pair in feature_importances]"
   ]
  },
  {
   "cell_type": "code",
   "execution_count": 112,
   "metadata": {},
   "outputs": [
    {
     "output_type": "stream",
     "name": "stdout",
     "text": [
      "              precision    recall  f1-score   support\n\n     Approve       0.98      0.92      0.95       173\n        Deny       0.92      0.98      0.95       161\n\n    accuracy                           0.95       334\n   macro avg       0.95      0.95      0.95       334\nweighted avg       0.95      0.95      0.95       334\n\n"
     ]
    }
   ],
   "source": [
    "# With hypertuned parameters\n",
    "print(classification_report(cy_val, cpredval, target_names=target_names))"
   ]
  },
  {
   "cell_type": "code",
   "execution_count": 75,
   "metadata": {},
   "outputs": [
    {
     "output_type": "stream",
     "name": "stdout",
     "text": [
      "              precision    recall  f1-score   support\n\n     Approve       0.81      0.98      0.89    187324\n        Deny       0.55      0.08      0.14     46267\n\n    accuracy                           0.80    233591\n   macro avg       0.68      0.53      0.51    233591\nweighted avg       0.76      0.80      0.74    233591\n\n"
     ]
    }
   ],
   "source": [
    "# Before resampling\n",
    "print(classification_report(y_val, predval, target_names=target_names))"
   ]
  },
  {
   "cell_type": "code",
   "execution_count": 78,
   "metadata": {},
   "outputs": [
    {
     "output_type": "stream",
     "name": "stdout",
     "text": [
      "[[184266   3058]\n [ 42593   3674]]\n"
     ]
    }
   ],
   "source": [
    "print(confusion_matrix(y_val, predval))"
   ]
  },
  {
   "cell_type": "code",
   "execution_count": 81,
   "metadata": {},
   "outputs": [
    {
     "output_type": "execute_result",
     "data": {
      "text/plain": [
       "0.804568669169617"
      ]
     },
     "metadata": {},
     "execution_count": 81
    }
   ],
   "source": [
    "# Score test\n",
    "rfc.score(X_val, y_val)"
   ]
  },
  {
   "cell_type": "code",
   "execution_count": 52,
   "metadata": {},
   "outputs": [
    {
     "output_type": "execute_result",
     "data": {
      "text/plain": "0.8041603793921104"
     },
     "metadata": {},
     "execution_count": 52
    }
   ],
   "source": [
    "# Score test\n",
    "rfc.score(CX_test, cy_test)"
   ]
  },
  {
   "cell_type": "code",
   "execution_count": 68,
   "metadata": {
    "tags": []
   },
   "outputs": [
    {
     "output_type": "stream",
     "name": "stdout",
     "text": [
      "Training Set Evaluation F1-Score=> 0.9999386739873091\n"
     ]
    }
   ],
   "source": [
    "# Evaluating on Training set\n",
    "rfc_pred_train = rfc.predict(X_train)\n",
    "print('Training Set Evaluation F1-Score=>',f1_score(y_train,rfc_pred_train))"
   ]
  },
  {
   "cell_type": "code",
   "execution_count": 56,
   "metadata": {
    "tags": []
   },
   "outputs": [
    {
     "output_type": "stream",
     "name": "stdout",
     "text": "Testing Set Evaluation F1-Score=> 0.13576946417149138\n"
    }
   ],
   "source": [
    "# Evaluating on Test set\n",
    "rfc_pred_test = rfc.predict(X_test)\n",
    "print('Testing Set Evaluation F1-Score=>',f1_score(y_test,rfc_pred_test))"
   ]
  },
  {
   "cell_type": "code",
   "execution_count": 178,
   "metadata": {},
   "outputs": [
    {
     "output_type": "execute_result",
     "data": {
      "text/plain": [
       "[(0.20979961060770771, 'sub_grade'),\n",
       " (0.1778802932091984, 'int_rate'),\n",
       " (0.07184120329323943, 'term'),\n",
       " (0.06627625445621438, 'dti'),\n",
       " (0.056942386565418585, 'fico_score'),\n",
       " (0.05205518553370215, 'loan_amnt'),\n",
       " (0.04436926425063762, 'revol_bal'),\n",
       " (0.04242638101277597, 'annual_inc'),\n",
       " (0.04161345929132065, 'revol_util'),\n",
       " (0.03877150464598106, 'mo_sin_old_il_acct'),\n",
       " (0.030999039846586272, 'earliest_cr_year'),\n",
       " (0.029332986481423476, 'addr_state'),\n",
       " (0.028899799293252693, 'open_acc'),\n",
       " (0.02794977660522055, 'mort_acc'),\n",
       " (0.018209951545488493, 'home_ownership'),\n",
       " (0.017584375885700602, 'emp_length'),\n",
       " (0.016658501139885862, 'verification_status'),\n",
       " (0.014822164006187062, 'purpose'),\n",
       " (0.006196631807150259, 'pub_rec'),\n",
       " (0.00533352498862588, 'initial_list_status'),\n",
       " (0.002037705534283107, 'application_type')]"
      ]
     },
     "metadata": {},
     "execution_count": 178
    }
   ],
   "source": [
    "# Sort feature importance \n",
    "sorted(zip(rfc.feature_importances_, feature_names), reverse=True)"
   ]
  },
  {
   "cell_type": "code",
   "execution_count": 191,
   "metadata": {},
   "outputs": [],
   "source": [
    "features_response = feature_names.tolist()\n",
    "\n",
    "feat_imp_df = pd.DataFrame({\n",
    "    'Feature name':features_response,\n",
    "    'Importance':rfc.feature_importances_\n",
    "})"
   ]
  },
  {
   "cell_type": "code",
   "execution_count": 192,
   "metadata": {},
   "outputs": [
    {
     "output_type": "execute_result",
     "data": {
      "text/plain": [
       "           Feature name  Importance\n",
       "3             sub_grade    0.209800\n",
       "2              int_rate    0.177880\n",
       "1                  term    0.071841\n",
       "10                  dti    0.066276\n",
       "20           fico_score    0.056942\n",
       "0             loan_amnt    0.052055\n",
       "13            revol_bal    0.044369\n",
       "6            annual_inc    0.042426\n",
       "14           revol_util    0.041613\n",
       "17   mo_sin_old_il_acct    0.038772\n",
       "19     earliest_cr_year    0.030999\n",
       "9            addr_state    0.029333\n",
       "11             open_acc    0.028900\n",
       "18             mort_acc    0.027950\n",
       "5        home_ownership    0.018210\n",
       "4            emp_length    0.017584\n",
       "7   verification_status    0.016659\n",
       "8               purpose    0.014822\n",
       "12              pub_rec    0.006197\n",
       "15  initial_list_status    0.005334\n",
       "16     application_type    0.002038"
      ],
      "text/html": "<div>\n<style scoped>\n    .dataframe tbody tr th:only-of-type {\n        vertical-align: middle;\n    }\n\n    .dataframe tbody tr th {\n        vertical-align: top;\n    }\n\n    .dataframe thead th {\n        text-align: right;\n    }\n</style>\n<table border=\"1\" class=\"dataframe\">\n  <thead>\n    <tr style=\"text-align: right;\">\n      <th></th>\n      <th>Feature name</th>\n      <th>Importance</th>\n    </tr>\n  </thead>\n  <tbody>\n    <tr>\n      <th>3</th>\n      <td>sub_grade</td>\n      <td>0.209800</td>\n    </tr>\n    <tr>\n      <th>2</th>\n      <td>int_rate</td>\n      <td>0.177880</td>\n    </tr>\n    <tr>\n      <th>1</th>\n      <td>term</td>\n      <td>0.071841</td>\n    </tr>\n    <tr>\n      <th>10</th>\n      <td>dti</td>\n      <td>0.066276</td>\n    </tr>\n    <tr>\n      <th>20</th>\n      <td>fico_score</td>\n      <td>0.056942</td>\n    </tr>\n    <tr>\n      <th>0</th>\n      <td>loan_amnt</td>\n      <td>0.052055</td>\n    </tr>\n    <tr>\n      <th>13</th>\n      <td>revol_bal</td>\n      <td>0.044369</td>\n    </tr>\n    <tr>\n      <th>6</th>\n      <td>annual_inc</td>\n      <td>0.042426</td>\n    </tr>\n    <tr>\n      <th>14</th>\n      <td>revol_util</td>\n      <td>0.041613</td>\n    </tr>\n    <tr>\n      <th>17</th>\n      <td>mo_sin_old_il_acct</td>\n      <td>0.038772</td>\n    </tr>\n    <tr>\n      <th>19</th>\n      <td>earliest_cr_year</td>\n      <td>0.030999</td>\n    </tr>\n    <tr>\n      <th>9</th>\n      <td>addr_state</td>\n      <td>0.029333</td>\n    </tr>\n    <tr>\n      <th>11</th>\n      <td>open_acc</td>\n      <td>0.028900</td>\n    </tr>\n    <tr>\n      <th>18</th>\n      <td>mort_acc</td>\n      <td>0.027950</td>\n    </tr>\n    <tr>\n      <th>5</th>\n      <td>home_ownership</td>\n      <td>0.018210</td>\n    </tr>\n    <tr>\n      <th>4</th>\n      <td>emp_length</td>\n      <td>0.017584</td>\n    </tr>\n    <tr>\n      <th>7</th>\n      <td>verification_status</td>\n      <td>0.016659</td>\n    </tr>\n    <tr>\n      <th>8</th>\n      <td>purpose</td>\n      <td>0.014822</td>\n    </tr>\n    <tr>\n      <th>12</th>\n      <td>pub_rec</td>\n      <td>0.006197</td>\n    </tr>\n    <tr>\n      <th>15</th>\n      <td>initial_list_status</td>\n      <td>0.005334</td>\n    </tr>\n    <tr>\n      <th>16</th>\n      <td>application_type</td>\n      <td>0.002038</td>\n    </tr>\n  </tbody>\n</table>\n</div>"
     },
     "metadata": {},
     "execution_count": 192
    }
   ],
   "source": [
    "feat_imp_df.sort_values('Importance', ascending=False)"
   ]
  },
  {
   "cell_type": "code",
   "execution_count": 184,
   "metadata": {},
   "outputs": [
    {
     "output_type": "display_data",
     "data": {
      "text/plain": "<Figure size 432x288 with 1 Axes>",
      "image/svg+xml": "<?xml version=\"1.0\" encoding=\"utf-8\" standalone=\"no\"?>\r\n<!DOCTYPE svg PUBLIC \"-//W3C//DTD SVG 1.1//EN\"\r\n  \"http://www.w3.org/Graphics/SVG/1.1/DTD/svg11.dtd\">\r\n<!-- Created with matplotlib (https://matplotlib.org/) -->\r\n<svg height=\"359.6675pt\" version=\"1.1\" viewBox=\"0 0 398.50625 359.6675\" width=\"398.50625pt\" xmlns=\"http://www.w3.org/2000/svg\" xmlns:xlink=\"http://www.w3.org/1999/xlink\">\r\n <defs>\r\n  <style type=\"text/css\">\r\n*{stroke-linecap:butt;stroke-linejoin:round;}\r\n  </style>\r\n </defs>\r\n <g id=\"figure_1\">\r\n  <g id=\"patch_1\">\r\n   <path d=\"M 0 359.6675 \r\nL 398.50625 359.6675 \r\nL 398.50625 0 \r\nL 0 0 \r\nz\r\n\" style=\"fill:none;\"/>\r\n  </g>\r\n  <g id=\"axes_1\">\r\n   <g id=\"patch_2\">\r\n    <path d=\"M 56.50625 239.758125 \r\nL 391.30625 239.758125 \r\nL 391.30625 22.318125 \r\nL 56.50625 22.318125 \r\nz\r\n\" style=\"fill:#ffffff;\"/>\r\n   </g>\r\n   <g id=\"patch_3\">\r\n    <path clip-path=\"url(#pa96ceb7258)\" d=\"M 71.724432 239.758125 \r\nL 83.430726 239.758125 \r\nL 83.430726 188.376308 \r\nL 71.724432 188.376308 \r\nz\r\n\" style=\"fill:#1f77b4;\"/>\r\n   </g>\r\n   <g id=\"patch_4\">\r\n    <path clip-path=\"url(#pa96ceb7258)\" d=\"M 86.357299 239.758125 \r\nL 98.063593 239.758125 \r\nL 98.063593 168.846235 \r\nL 86.357299 168.846235 \r\nz\r\n\" style=\"fill:#1f77b4;\"/>\r\n   </g>\r\n   <g id=\"patch_5\">\r\n    <path clip-path=\"url(#pa96ceb7258)\" d=\"M 100.990166 239.758125 \r\nL 112.69646 239.758125 \r\nL 112.69646 64.178831 \r\nL 100.990166 64.178831 \r\nz\r\n\" style=\"fill:#1f77b4;\"/>\r\n   </g>\r\n   <g id=\"patch_6\">\r\n    <path clip-path=\"url(#pa96ceb7258)\" d=\"M 115.623033 239.758125 \r\nL 127.329327 239.758125 \r\nL 127.329327 32.672411 \r\nL 115.623033 32.672411 \r\nz\r\n\" style=\"fill:#1f77b4;\"/>\r\n   </g>\r\n   <g id=\"patch_7\">\r\n    <path clip-path=\"url(#pa96ceb7258)\" d=\"M 130.2559 239.758125 \r\nL 141.962194 239.758125 \r\nL 141.962194 222.401215 \r\nL 130.2559 222.401215 \r\nz\r\n\" style=\"fill:#1f77b4;\"/>\r\n   </g>\r\n   <g id=\"patch_8\">\r\n    <path clip-path=\"url(#pa96ceb7258)\" d=\"M 144.888767 239.758125 \r\nL 156.595061 239.758125 \r\nL 156.595061 221.783731 \r\nL 144.888767 221.783731 \r\nz\r\n\" style=\"fill:#1f77b4;\"/>\r\n   </g>\r\n   <g id=\"patch_9\">\r\n    <path clip-path=\"url(#pa96ceb7258)\" d=\"M 159.521635 239.758125 \r\nL 171.227928 239.758125 \r\nL 171.227928 197.880557 \r\nL 159.521635 197.880557 \r\nz\r\n\" style=\"fill:#1f77b4;\"/>\r\n   </g>\r\n   <g id=\"patch_10\">\r\n    <path clip-path=\"url(#pa96ceb7258)\" d=\"M 174.154502 239.758125 \r\nL 185.860795 239.758125 \r\nL 185.860795 223.315113 \r\nL 174.154502 223.315113 \r\nz\r\n\" style=\"fill:#1f77b4;\"/>\r\n   </g>\r\n   <g id=\"patch_11\">\r\n    <path clip-path=\"url(#pa96ceb7258)\" d=\"M 188.787369 239.758125 \r\nL 200.493663 239.758125 \r\nL 200.493663 225.127695 \r\nL 188.787369 225.127695 \r\nz\r\n\" style=\"fill:#1f77b4;\"/>\r\n   </g>\r\n   <g id=\"patch_12\">\r\n    <path clip-path=\"url(#pa96ceb7258)\" d=\"M 203.420236 239.758125 \r\nL 215.12653 239.758125 \r\nL 215.12653 210.80458 \r\nL 203.420236 210.80458 \r\nz\r\n\" style=\"fill:#1f77b4;\"/>\r\n   </g>\r\n   <g id=\"patch_13\">\r\n    <path clip-path=\"url(#pa96ceb7258)\" d=\"M 218.053103 239.758125 \r\nL 229.759397 239.758125 \r\nL 229.759397 174.339198 \r\nL 218.053103 174.339198 \r\nz\r\n\" style=\"fill:#1f77b4;\"/>\r\n   </g>\r\n   <g id=\"patch_14\">\r\n    <path clip-path=\"url(#pa96ceb7258)\" d=\"M 232.68597 239.758125 \r\nL 244.392264 239.758125 \r\nL 244.392264 211.232164 \r\nL 232.68597 211.232164 \r\nz\r\n\" style=\"fill:#1f77b4;\"/>\r\n   </g>\r\n   <g id=\"patch_15\">\r\n    <path clip-path=\"url(#pa96ceb7258)\" d=\"M 247.318837 239.758125 \r\nL 259.025131 239.758125 \r\nL 259.025131 233.641651 \r\nL 247.318837 233.641651 \r\nz\r\n\" style=\"fill:#1f77b4;\"/>\r\n   </g>\r\n   <g id=\"patch_16\">\r\n    <path clip-path=\"url(#pa96ceb7258)\" d=\"M 261.951705 239.758125 \r\nL 273.657998 239.758125 \r\nL 273.657998 195.962806 \r\nL 261.951705 195.962806 \r\nz\r\n\" style=\"fill:#1f77b4;\"/>\r\n   </g>\r\n   <g id=\"patch_17\">\r\n    <path clip-path=\"url(#pa96ceb7258)\" d=\"M 276.584572 239.758125 \r\nL 288.290865 239.758125 \r\nL 288.290865 198.682963 \r\nL 276.584572 198.682963 \r\nz\r\n\" style=\"fill:#1f77b4;\"/>\r\n   </g>\r\n   <g id=\"patch_18\">\r\n    <path clip-path=\"url(#pa96ceb7258)\" d=\"M 291.217439 239.758125 \r\nL 302.923733 239.758125 \r\nL 302.923733 234.493593 \r\nL 291.217439 234.493593 \r\nz\r\n\" style=\"fill:#1f77b4;\"/>\r\n   </g>\r\n   <g id=\"patch_19\">\r\n    <path clip-path=\"url(#pa96ceb7258)\" d=\"M 305.850306 239.758125 \r\nL 317.5566 239.758125 \r\nL 317.5566 237.746779 \r\nL 305.850306 237.746779 \r\nz\r\n\" style=\"fill:#1f77b4;\"/>\r\n   </g>\r\n   <g id=\"patch_20\">\r\n    <path clip-path=\"url(#pa96ceb7258)\" d=\"M 320.483173 239.758125 \r\nL 332.189467 239.758125 \r\nL 332.189467 201.488155 \r\nL 320.483173 201.488155 \r\nz\r\n\" style=\"fill:#1f77b4;\"/>\r\n   </g>\r\n   <g id=\"patch_21\">\r\n    <path clip-path=\"url(#pa96ceb7258)\" d=\"M 335.11604 239.758125 \r\nL 346.822334 239.758125 \r\nL 346.822334 212.169897 \r\nL 335.11604 212.169897 \r\nz\r\n\" style=\"fill:#1f77b4;\"/>\r\n   </g>\r\n   <g id=\"patch_22\">\r\n    <path clip-path=\"url(#pa96ceb7258)\" d=\"M 349.748907 239.758125 \r\nL 361.455201 239.758125 \r\nL 361.455201 209.160078 \r\nL 349.748907 209.160078 \r\nz\r\n\" style=\"fill:#1f77b4;\"/>\r\n   </g>\r\n   <g id=\"patch_23\">\r\n    <path clip-path=\"url(#pa96ceb7258)\" d=\"M 364.381774 239.758125 \r\nL 376.088068 239.758125 \r\nL 376.088068 183.552326 \r\nL 364.381774 183.552326 \r\nz\r\n\" style=\"fill:#1f77b4;\"/>\r\n   </g>\r\n   <g id=\"matplotlib.axis_1\">\r\n    <g id=\"xtick_1\">\r\n     <g id=\"line2d_1\">\r\n      <defs>\r\n       <path d=\"M 0 0 \r\nL 0 3.5 \r\n\" id=\"mc943624d1e\" style=\"stroke:#000000;stroke-width:0.8;\"/>\r\n      </defs>\r\n      <g>\r\n       <use style=\"stroke:#000000;stroke-width:0.8;\" x=\"77.577579\" xlink:href=\"#mc943624d1e\" y=\"239.758125\"/>\r\n      </g>\r\n     </g>\r\n     <g id=\"text_1\">\r\n      <!-- loan_amnt -->\r\n      <defs>\r\n       <path d=\"M 9.421875 75.984375 \r\nL 18.40625 75.984375 \r\nL 18.40625 0 \r\nL 9.421875 0 \r\nz\r\n\" id=\"DejaVuSans-108\"/>\r\n       <path d=\"M 30.609375 48.390625 \r\nQ 23.390625 48.390625 19.1875 42.75 \r\nQ 14.984375 37.109375 14.984375 27.296875 \r\nQ 14.984375 17.484375 19.15625 11.84375 \r\nQ 23.34375 6.203125 30.609375 6.203125 \r\nQ 37.796875 6.203125 41.984375 11.859375 \r\nQ 46.1875 17.53125 46.1875 27.296875 \r\nQ 46.1875 37.015625 41.984375 42.703125 \r\nQ 37.796875 48.390625 30.609375 48.390625 \r\nz\r\nM 30.609375 56 \r\nQ 42.328125 56 49.015625 48.375 \r\nQ 55.71875 40.765625 55.71875 27.296875 \r\nQ 55.71875 13.875 49.015625 6.21875 \r\nQ 42.328125 -1.421875 30.609375 -1.421875 \r\nQ 18.84375 -1.421875 12.171875 6.21875 \r\nQ 5.515625 13.875 5.515625 27.296875 \r\nQ 5.515625 40.765625 12.171875 48.375 \r\nQ 18.84375 56 30.609375 56 \r\nz\r\n\" id=\"DejaVuSans-111\"/>\r\n       <path d=\"M 34.28125 27.484375 \r\nQ 23.390625 27.484375 19.1875 25 \r\nQ 14.984375 22.515625 14.984375 16.5 \r\nQ 14.984375 11.71875 18.140625 8.90625 \r\nQ 21.296875 6.109375 26.703125 6.109375 \r\nQ 34.1875 6.109375 38.703125 11.40625 \r\nQ 43.21875 16.703125 43.21875 25.484375 \r\nL 43.21875 27.484375 \r\nz\r\nM 52.203125 31.203125 \r\nL 52.203125 0 \r\nL 43.21875 0 \r\nL 43.21875 8.296875 \r\nQ 40.140625 3.328125 35.546875 0.953125 \r\nQ 30.953125 -1.421875 24.3125 -1.421875 \r\nQ 15.921875 -1.421875 10.953125 3.296875 \r\nQ 6 8.015625 6 15.921875 \r\nQ 6 25.140625 12.171875 29.828125 \r\nQ 18.359375 34.515625 30.609375 34.515625 \r\nL 43.21875 34.515625 \r\nL 43.21875 35.40625 \r\nQ 43.21875 41.609375 39.140625 45 \r\nQ 35.0625 48.390625 27.6875 48.390625 \r\nQ 23 48.390625 18.546875 47.265625 \r\nQ 14.109375 46.140625 10.015625 43.890625 \r\nL 10.015625 52.203125 \r\nQ 14.9375 54.109375 19.578125 55.046875 \r\nQ 24.21875 56 28.609375 56 \r\nQ 40.484375 56 46.34375 49.84375 \r\nQ 52.203125 43.703125 52.203125 31.203125 \r\nz\r\n\" id=\"DejaVuSans-97\"/>\r\n       <path d=\"M 54.890625 33.015625 \r\nL 54.890625 0 \r\nL 45.90625 0 \r\nL 45.90625 32.71875 \r\nQ 45.90625 40.484375 42.875 44.328125 \r\nQ 39.84375 48.1875 33.796875 48.1875 \r\nQ 26.515625 48.1875 22.3125 43.546875 \r\nQ 18.109375 38.921875 18.109375 30.90625 \r\nL 18.109375 0 \r\nL 9.078125 0 \r\nL 9.078125 54.6875 \r\nL 18.109375 54.6875 \r\nL 18.109375 46.1875 \r\nQ 21.34375 51.125 25.703125 53.5625 \r\nQ 30.078125 56 35.796875 56 \r\nQ 45.21875 56 50.046875 50.171875 \r\nQ 54.890625 44.34375 54.890625 33.015625 \r\nz\r\n\" id=\"DejaVuSans-110\"/>\r\n       <path d=\"M 50.984375 -16.609375 \r\nL 50.984375 -23.578125 \r\nL -0.984375 -23.578125 \r\nL -0.984375 -16.609375 \r\nz\r\n\" id=\"DejaVuSans-95\"/>\r\n       <path d=\"M 52 44.1875 \r\nQ 55.375 50.25 60.0625 53.125 \r\nQ 64.75 56 71.09375 56 \r\nQ 79.640625 56 84.28125 50.015625 \r\nQ 88.921875 44.046875 88.921875 33.015625 \r\nL 88.921875 0 \r\nL 79.890625 0 \r\nL 79.890625 32.71875 \r\nQ 79.890625 40.578125 77.09375 44.375 \r\nQ 74.3125 48.1875 68.609375 48.1875 \r\nQ 61.625 48.1875 57.5625 43.546875 \r\nQ 53.515625 38.921875 53.515625 30.90625 \r\nL 53.515625 0 \r\nL 44.484375 0 \r\nL 44.484375 32.71875 \r\nQ 44.484375 40.625 41.703125 44.40625 \r\nQ 38.921875 48.1875 33.109375 48.1875 \r\nQ 26.21875 48.1875 22.15625 43.53125 \r\nQ 18.109375 38.875 18.109375 30.90625 \r\nL 18.109375 0 \r\nL 9.078125 0 \r\nL 9.078125 54.6875 \r\nL 18.109375 54.6875 \r\nL 18.109375 46.1875 \r\nQ 21.1875 51.21875 25.484375 53.609375 \r\nQ 29.78125 56 35.6875 56 \r\nQ 41.65625 56 45.828125 52.96875 \r\nQ 50 49.953125 52 44.1875 \r\nz\r\n\" id=\"DejaVuSans-109\"/>\r\n       <path d=\"M 18.3125 70.21875 \r\nL 18.3125 54.6875 \r\nL 36.8125 54.6875 \r\nL 36.8125 47.703125 \r\nL 18.3125 47.703125 \r\nL 18.3125 18.015625 \r\nQ 18.3125 11.328125 20.140625 9.421875 \r\nQ 21.96875 7.515625 27.59375 7.515625 \r\nL 36.8125 7.515625 \r\nL 36.8125 0 \r\nL 27.59375 0 \r\nQ 17.1875 0 13.234375 3.875 \r\nQ 9.28125 7.765625 9.28125 18.015625 \r\nL 9.28125 47.703125 \r\nL 2.6875 47.703125 \r\nL 2.6875 54.6875 \r\nL 9.28125 54.6875 \r\nL 9.28125 70.21875 \r\nz\r\n\" id=\"DejaVuSans-116\"/>\r\n      </defs>\r\n      <g transform=\"translate(80.197891 299.247187)rotate(-90)scale(0.1 -0.1)\">\r\n       <use xlink:href=\"#DejaVuSans-108\"/>\r\n       <use x=\"27.783203\" xlink:href=\"#DejaVuSans-111\"/>\r\n       <use x=\"88.964844\" xlink:href=\"#DejaVuSans-97\"/>\r\n       <use x=\"150.244141\" xlink:href=\"#DejaVuSans-110\"/>\r\n       <use x=\"213.623047\" xlink:href=\"#DejaVuSans-95\"/>\r\n       <use x=\"263.623047\" xlink:href=\"#DejaVuSans-97\"/>\r\n       <use x=\"324.902344\" xlink:href=\"#DejaVuSans-109\"/>\r\n       <use x=\"422.314453\" xlink:href=\"#DejaVuSans-110\"/>\r\n       <use x=\"485.693359\" xlink:href=\"#DejaVuSans-116\"/>\r\n      </g>\r\n     </g>\r\n    </g>\r\n    <g id=\"xtick_2\">\r\n     <g id=\"line2d_2\">\r\n      <g>\r\n       <use style=\"stroke:#000000;stroke-width:0.8;\" x=\"92.210446\" xlink:href=\"#mc943624d1e\" y=\"239.758125\"/>\r\n      </g>\r\n     </g>\r\n     <g id=\"text_2\">\r\n      <!-- term -->\r\n      <defs>\r\n       <path d=\"M 56.203125 29.59375 \r\nL 56.203125 25.203125 \r\nL 14.890625 25.203125 \r\nQ 15.484375 15.921875 20.484375 11.0625 \r\nQ 25.484375 6.203125 34.421875 6.203125 \r\nQ 39.59375 6.203125 44.453125 7.46875 \r\nQ 49.3125 8.734375 54.109375 11.28125 \r\nL 54.109375 2.78125 \r\nQ 49.265625 0.734375 44.1875 -0.34375 \r\nQ 39.109375 -1.421875 33.890625 -1.421875 \r\nQ 20.796875 -1.421875 13.15625 6.1875 \r\nQ 5.515625 13.8125 5.515625 26.8125 \r\nQ 5.515625 40.234375 12.765625 48.109375 \r\nQ 20.015625 56 32.328125 56 \r\nQ 43.359375 56 49.78125 48.890625 \r\nQ 56.203125 41.796875 56.203125 29.59375 \r\nz\r\nM 47.21875 32.234375 \r\nQ 47.125 39.59375 43.09375 43.984375 \r\nQ 39.0625 48.390625 32.421875 48.390625 \r\nQ 24.90625 48.390625 20.390625 44.140625 \r\nQ 15.875 39.890625 15.1875 32.171875 \r\nz\r\n\" id=\"DejaVuSans-101\"/>\r\n       <path d=\"M 41.109375 46.296875 \r\nQ 39.59375 47.171875 37.8125 47.578125 \r\nQ 36.03125 48 33.890625 48 \r\nQ 26.265625 48 22.1875 43.046875 \r\nQ 18.109375 38.09375 18.109375 28.8125 \r\nL 18.109375 0 \r\nL 9.078125 0 \r\nL 9.078125 54.6875 \r\nL 18.109375 54.6875 \r\nL 18.109375 46.1875 \r\nQ 20.953125 51.171875 25.484375 53.578125 \r\nQ 30.03125 56 36.53125 56 \r\nQ 37.453125 56 38.578125 55.875 \r\nQ 39.703125 55.765625 41.0625 55.515625 \r\nz\r\n\" id=\"DejaVuSans-114\"/>\r\n      </defs>\r\n      <g transform=\"translate(94.969821 270.681563)rotate(-90)scale(0.1 -0.1)\">\r\n       <use xlink:href=\"#DejaVuSans-116\"/>\r\n       <use x=\"39.208984\" xlink:href=\"#DejaVuSans-101\"/>\r\n       <use x=\"100.732422\" xlink:href=\"#DejaVuSans-114\"/>\r\n       <use x=\"141.830078\" xlink:href=\"#DejaVuSans-109\"/>\r\n      </g>\r\n     </g>\r\n    </g>\r\n    <g id=\"xtick_3\">\r\n     <g id=\"line2d_3\">\r\n      <g>\r\n       <use style=\"stroke:#000000;stroke-width:0.8;\" x=\"106.843313\" xlink:href=\"#mc943624d1e\" y=\"239.758125\"/>\r\n      </g>\r\n     </g>\r\n     <g id=\"text_3\">\r\n      <!-- int_rate -->\r\n      <defs>\r\n       <path d=\"M 9.421875 54.6875 \r\nL 18.40625 54.6875 \r\nL 18.40625 0 \r\nL 9.421875 0 \r\nz\r\nM 9.421875 75.984375 \r\nL 18.40625 75.984375 \r\nL 18.40625 64.59375 \r\nL 9.421875 64.59375 \r\nz\r\n\" id=\"DejaVuSans-105\"/>\r\n      </defs>\r\n      <g transform=\"translate(109.463625 285.106562)rotate(-90)scale(0.1 -0.1)\">\r\n       <use xlink:href=\"#DejaVuSans-105\"/>\r\n       <use x=\"27.783203\" xlink:href=\"#DejaVuSans-110\"/>\r\n       <use x=\"91.162109\" xlink:href=\"#DejaVuSans-116\"/>\r\n       <use x=\"130.371094\" xlink:href=\"#DejaVuSans-95\"/>\r\n       <use x=\"180.371094\" xlink:href=\"#DejaVuSans-114\"/>\r\n       <use x=\"221.484375\" xlink:href=\"#DejaVuSans-97\"/>\r\n       <use x=\"282.763672\" xlink:href=\"#DejaVuSans-116\"/>\r\n       <use x=\"321.972656\" xlink:href=\"#DejaVuSans-101\"/>\r\n      </g>\r\n     </g>\r\n    </g>\r\n    <g id=\"xtick_4\">\r\n     <g id=\"line2d_4\">\r\n      <g>\r\n       <use style=\"stroke:#000000;stroke-width:0.8;\" x=\"121.47618\" xlink:href=\"#mc943624d1e\" y=\"239.758125\"/>\r\n      </g>\r\n     </g>\r\n     <g id=\"text_4\">\r\n      <!-- sub_grade -->\r\n      <defs>\r\n       <path d=\"M 44.28125 53.078125 \r\nL 44.28125 44.578125 \r\nQ 40.484375 46.53125 36.375 47.5 \r\nQ 32.28125 48.484375 27.875 48.484375 \r\nQ 21.1875 48.484375 17.84375 46.4375 \r\nQ 14.5 44.390625 14.5 40.28125 \r\nQ 14.5 37.15625 16.890625 35.375 \r\nQ 19.28125 33.59375 26.515625 31.984375 \r\nL 29.59375 31.296875 \r\nQ 39.15625 29.25 43.1875 25.515625 \r\nQ 47.21875 21.78125 47.21875 15.09375 \r\nQ 47.21875 7.46875 41.1875 3.015625 \r\nQ 35.15625 -1.421875 24.609375 -1.421875 \r\nQ 20.21875 -1.421875 15.453125 -0.5625 \r\nQ 10.6875 0.296875 5.421875 2 \r\nL 5.421875 11.28125 \r\nQ 10.40625 8.6875 15.234375 7.390625 \r\nQ 20.0625 6.109375 24.8125 6.109375 \r\nQ 31.15625 6.109375 34.5625 8.28125 \r\nQ 37.984375 10.453125 37.984375 14.40625 \r\nQ 37.984375 18.0625 35.515625 20.015625 \r\nQ 33.0625 21.96875 24.703125 23.78125 \r\nL 21.578125 24.515625 \r\nQ 13.234375 26.265625 9.515625 29.90625 \r\nQ 5.8125 33.546875 5.8125 39.890625 \r\nQ 5.8125 47.609375 11.28125 51.796875 \r\nQ 16.75 56 26.8125 56 \r\nQ 31.78125 56 36.171875 55.265625 \r\nQ 40.578125 54.546875 44.28125 53.078125 \r\nz\r\n\" id=\"DejaVuSans-115\"/>\r\n       <path d=\"M 8.5 21.578125 \r\nL 8.5 54.6875 \r\nL 17.484375 54.6875 \r\nL 17.484375 21.921875 \r\nQ 17.484375 14.15625 20.5 10.265625 \r\nQ 23.53125 6.390625 29.59375 6.390625 \r\nQ 36.859375 6.390625 41.078125 11.03125 \r\nQ 45.3125 15.671875 45.3125 23.6875 \r\nL 45.3125 54.6875 \r\nL 54.296875 54.6875 \r\nL 54.296875 0 \r\nL 45.3125 0 \r\nL 45.3125 8.40625 \r\nQ 42.046875 3.421875 37.71875 1 \r\nQ 33.40625 -1.421875 27.6875 -1.421875 \r\nQ 18.265625 -1.421875 13.375 4.4375 \r\nQ 8.5 10.296875 8.5 21.578125 \r\nz\r\nM 31.109375 56 \r\nz\r\n\" id=\"DejaVuSans-117\"/>\r\n       <path d=\"M 48.6875 27.296875 \r\nQ 48.6875 37.203125 44.609375 42.84375 \r\nQ 40.53125 48.484375 33.40625 48.484375 \r\nQ 26.265625 48.484375 22.1875 42.84375 \r\nQ 18.109375 37.203125 18.109375 27.296875 \r\nQ 18.109375 17.390625 22.1875 11.75 \r\nQ 26.265625 6.109375 33.40625 6.109375 \r\nQ 40.53125 6.109375 44.609375 11.75 \r\nQ 48.6875 17.390625 48.6875 27.296875 \r\nz\r\nM 18.109375 46.390625 \r\nQ 20.953125 51.265625 25.265625 53.625 \r\nQ 29.59375 56 35.59375 56 \r\nQ 45.5625 56 51.78125 48.09375 \r\nQ 58.015625 40.1875 58.015625 27.296875 \r\nQ 58.015625 14.40625 51.78125 6.484375 \r\nQ 45.5625 -1.421875 35.59375 -1.421875 \r\nQ 29.59375 -1.421875 25.265625 0.953125 \r\nQ 20.953125 3.328125 18.109375 8.203125 \r\nL 18.109375 0 \r\nL 9.078125 0 \r\nL 9.078125 75.984375 \r\nL 18.109375 75.984375 \r\nz\r\n\" id=\"DejaVuSans-98\"/>\r\n       <path d=\"M 45.40625 27.984375 \r\nQ 45.40625 37.75 41.375 43.109375 \r\nQ 37.359375 48.484375 30.078125 48.484375 \r\nQ 22.859375 48.484375 18.828125 43.109375 \r\nQ 14.796875 37.75 14.796875 27.984375 \r\nQ 14.796875 18.265625 18.828125 12.890625 \r\nQ 22.859375 7.515625 30.078125 7.515625 \r\nQ 37.359375 7.515625 41.375 12.890625 \r\nQ 45.40625 18.265625 45.40625 27.984375 \r\nz\r\nM 54.390625 6.78125 \r\nQ 54.390625 -7.171875 48.1875 -13.984375 \r\nQ 42 -20.796875 29.203125 -20.796875 \r\nQ 24.46875 -20.796875 20.265625 -20.09375 \r\nQ 16.0625 -19.390625 12.109375 -17.921875 \r\nL 12.109375 -9.1875 \r\nQ 16.0625 -11.328125 19.921875 -12.34375 \r\nQ 23.78125 -13.375 27.78125 -13.375 \r\nQ 36.625 -13.375 41.015625 -8.765625 \r\nQ 45.40625 -4.15625 45.40625 5.171875 \r\nL 45.40625 9.625 \r\nQ 42.625 4.78125 38.28125 2.390625 \r\nQ 33.9375 0 27.875 0 \r\nQ 17.828125 0 11.671875 7.65625 \r\nQ 5.515625 15.328125 5.515625 27.984375 \r\nQ 5.515625 40.671875 11.671875 48.328125 \r\nQ 17.828125 56 27.875 56 \r\nQ 33.9375 56 38.28125 53.609375 \r\nQ 42.625 51.21875 45.40625 46.390625 \r\nL 45.40625 54.6875 \r\nL 54.390625 54.6875 \r\nz\r\n\" id=\"DejaVuSans-103\"/>\r\n       <path d=\"M 45.40625 46.390625 \r\nL 45.40625 75.984375 \r\nL 54.390625 75.984375 \r\nL 54.390625 0 \r\nL 45.40625 0 \r\nL 45.40625 8.203125 \r\nQ 42.578125 3.328125 38.25 0.953125 \r\nQ 33.9375 -1.421875 27.875 -1.421875 \r\nQ 17.96875 -1.421875 11.734375 6.484375 \r\nQ 5.515625 14.40625 5.515625 27.296875 \r\nQ 5.515625 40.1875 11.734375 48.09375 \r\nQ 17.96875 56 27.875 56 \r\nQ 33.9375 56 38.25 53.625 \r\nQ 42.578125 51.265625 45.40625 46.390625 \r\nz\r\nM 14.796875 27.296875 \r\nQ 14.796875 17.390625 18.875 11.75 \r\nQ 22.953125 6.109375 30.078125 6.109375 \r\nQ 37.203125 6.109375 41.296875 11.75 \r\nQ 45.40625 17.390625 45.40625 27.296875 \r\nQ 45.40625 37.203125 41.296875 42.84375 \r\nQ 37.203125 48.484375 30.078125 48.484375 \r\nQ 22.953125 48.484375 18.875 42.84375 \r\nQ 14.796875 37.203125 14.796875 27.296875 \r\nz\r\n\" id=\"DejaVuSans-100\"/>\r\n      </defs>\r\n      <g transform=\"translate(124.096493 298.7425)rotate(-90)scale(0.1 -0.1)\">\r\n       <use xlink:href=\"#DejaVuSans-115\"/>\r\n       <use x=\"52.099609\" xlink:href=\"#DejaVuSans-117\"/>\r\n       <use x=\"115.478516\" xlink:href=\"#DejaVuSans-98\"/>\r\n       <use x=\"178.955078\" xlink:href=\"#DejaVuSans-95\"/>\r\n       <use x=\"228.955078\" xlink:href=\"#DejaVuSans-103\"/>\r\n       <use x=\"292.431641\" xlink:href=\"#DejaVuSans-114\"/>\r\n       <use x=\"333.544922\" xlink:href=\"#DejaVuSans-97\"/>\r\n       <use x=\"394.824219\" xlink:href=\"#DejaVuSans-100\"/>\r\n       <use x=\"458.300781\" xlink:href=\"#DejaVuSans-101\"/>\r\n      </g>\r\n     </g>\r\n    </g>\r\n    <g id=\"xtick_5\">\r\n     <g id=\"line2d_5\">\r\n      <g>\r\n       <use style=\"stroke:#000000;stroke-width:0.8;\" x=\"136.109047\" xlink:href=\"#mc943624d1e\" y=\"239.758125\"/>\r\n      </g>\r\n     </g>\r\n     <g id=\"text_5\">\r\n      <!-- emp_length -->\r\n      <defs>\r\n       <path d=\"M 18.109375 8.203125 \r\nL 18.109375 -20.796875 \r\nL 9.078125 -20.796875 \r\nL 9.078125 54.6875 \r\nL 18.109375 54.6875 \r\nL 18.109375 46.390625 \r\nQ 20.953125 51.265625 25.265625 53.625 \r\nQ 29.59375 56 35.59375 56 \r\nQ 45.5625 56 51.78125 48.09375 \r\nQ 58.015625 40.1875 58.015625 27.296875 \r\nQ 58.015625 14.40625 51.78125 6.484375 \r\nQ 45.5625 -1.421875 35.59375 -1.421875 \r\nQ 29.59375 -1.421875 25.265625 0.953125 \r\nQ 20.953125 3.328125 18.109375 8.203125 \r\nz\r\nM 48.6875 27.296875 \r\nQ 48.6875 37.203125 44.609375 42.84375 \r\nQ 40.53125 48.484375 33.40625 48.484375 \r\nQ 26.265625 48.484375 22.1875 42.84375 \r\nQ 18.109375 37.203125 18.109375 27.296875 \r\nQ 18.109375 17.390625 22.1875 11.75 \r\nQ 26.265625 6.109375 33.40625 6.109375 \r\nQ 40.53125 6.109375 44.609375 11.75 \r\nQ 48.6875 17.390625 48.6875 27.296875 \r\nz\r\n\" id=\"DejaVuSans-112\"/>\r\n       <path d=\"M 54.890625 33.015625 \r\nL 54.890625 0 \r\nL 45.90625 0 \r\nL 45.90625 32.71875 \r\nQ 45.90625 40.484375 42.875 44.328125 \r\nQ 39.84375 48.1875 33.796875 48.1875 \r\nQ 26.515625 48.1875 22.3125 43.546875 \r\nQ 18.109375 38.921875 18.109375 30.90625 \r\nL 18.109375 0 \r\nL 9.078125 0 \r\nL 9.078125 75.984375 \r\nL 18.109375 75.984375 \r\nL 18.109375 46.1875 \r\nQ 21.34375 51.125 25.703125 53.5625 \r\nQ 30.078125 56 35.796875 56 \r\nQ 45.21875 56 50.046875 50.171875 \r\nQ 54.890625 44.34375 54.890625 33.015625 \r\nz\r\n\" id=\"DejaVuSans-104\"/>\r\n      </defs>\r\n      <g transform=\"translate(138.72936 305.875313)rotate(-90)scale(0.1 -0.1)\">\r\n       <use xlink:href=\"#DejaVuSans-101\"/>\r\n       <use x=\"61.523438\" xlink:href=\"#DejaVuSans-109\"/>\r\n       <use x=\"158.935547\" xlink:href=\"#DejaVuSans-112\"/>\r\n       <use x=\"222.412109\" xlink:href=\"#DejaVuSans-95\"/>\r\n       <use x=\"272.412109\" xlink:href=\"#DejaVuSans-108\"/>\r\n       <use x=\"300.195312\" xlink:href=\"#DejaVuSans-101\"/>\r\n       <use x=\"361.71875\" xlink:href=\"#DejaVuSans-110\"/>\r\n       <use x=\"425.097656\" xlink:href=\"#DejaVuSans-103\"/>\r\n       <use x=\"488.574219\" xlink:href=\"#DejaVuSans-116\"/>\r\n       <use x=\"527.783203\" xlink:href=\"#DejaVuSans-104\"/>\r\n      </g>\r\n     </g>\r\n    </g>\r\n    <g id=\"xtick_6\">\r\n     <g id=\"line2d_6\">\r\n      <g>\r\n       <use style=\"stroke:#000000;stroke-width:0.8;\" x=\"150.741914\" xlink:href=\"#mc943624d1e\" y=\"239.758125\"/>\r\n      </g>\r\n     </g>\r\n     <g id=\"text_6\">\r\n      <!-- home_ownership -->\r\n      <defs>\r\n       <path d=\"M 4.203125 54.6875 \r\nL 13.1875 54.6875 \r\nL 24.421875 12.015625 \r\nL 35.59375 54.6875 \r\nL 46.1875 54.6875 \r\nL 57.421875 12.015625 \r\nL 68.609375 54.6875 \r\nL 77.59375 54.6875 \r\nL 63.28125 0 \r\nL 52.6875 0 \r\nL 40.921875 44.828125 \r\nL 29.109375 0 \r\nL 18.5 0 \r\nz\r\n\" id=\"DejaVuSans-119\"/>\r\n      </defs>\r\n      <g transform=\"translate(153.362227 331.68)rotate(-90)scale(0.1 -0.1)\">\r\n       <use xlink:href=\"#DejaVuSans-104\"/>\r\n       <use x=\"63.378906\" xlink:href=\"#DejaVuSans-111\"/>\r\n       <use x=\"124.560547\" xlink:href=\"#DejaVuSans-109\"/>\r\n       <use x=\"221.972656\" xlink:href=\"#DejaVuSans-101\"/>\r\n       <use x=\"283.496094\" xlink:href=\"#DejaVuSans-95\"/>\r\n       <use x=\"333.496094\" xlink:href=\"#DejaVuSans-111\"/>\r\n       <use x=\"394.677734\" xlink:href=\"#DejaVuSans-119\"/>\r\n       <use x=\"476.464844\" xlink:href=\"#DejaVuSans-110\"/>\r\n       <use x=\"539.84375\" xlink:href=\"#DejaVuSans-101\"/>\r\n       <use x=\"601.367188\" xlink:href=\"#DejaVuSans-114\"/>\r\n       <use x=\"642.480469\" xlink:href=\"#DejaVuSans-115\"/>\r\n       <use x=\"694.580078\" xlink:href=\"#DejaVuSans-104\"/>\r\n       <use x=\"757.958984\" xlink:href=\"#DejaVuSans-105\"/>\r\n       <use x=\"785.742188\" xlink:href=\"#DejaVuSans-112\"/>\r\n      </g>\r\n     </g>\r\n    </g>\r\n    <g id=\"xtick_7\">\r\n     <g id=\"line2d_7\">\r\n      <g>\r\n       <use style=\"stroke:#000000;stroke-width:0.8;\" x=\"165.374781\" xlink:href=\"#mc943624d1e\" y=\"239.758125\"/>\r\n      </g>\r\n     </g>\r\n     <g id=\"text_7\">\r\n      <!-- annual_inc -->\r\n      <defs>\r\n       <path d=\"M 48.78125 52.59375 \r\nL 48.78125 44.1875 \r\nQ 44.96875 46.296875 41.140625 47.34375 \r\nQ 37.3125 48.390625 33.40625 48.390625 \r\nQ 24.65625 48.390625 19.8125 42.84375 \r\nQ 14.984375 37.3125 14.984375 27.296875 \r\nQ 14.984375 17.28125 19.8125 11.734375 \r\nQ 24.65625 6.203125 33.40625 6.203125 \r\nQ 37.3125 6.203125 41.140625 7.25 \r\nQ 44.96875 8.296875 48.78125 10.40625 \r\nL 48.78125 2.09375 \r\nQ 45.015625 0.34375 40.984375 -0.53125 \r\nQ 36.96875 -1.421875 32.421875 -1.421875 \r\nQ 20.0625 -1.421875 12.78125 6.34375 \r\nQ 5.515625 14.109375 5.515625 27.296875 \r\nQ 5.515625 40.671875 12.859375 48.328125 \r\nQ 20.21875 56 33.015625 56 \r\nQ 37.15625 56 41.109375 55.140625 \r\nQ 45.0625 54.296875 48.78125 52.59375 \r\nz\r\n\" id=\"DejaVuSans-99\"/>\r\n      </defs>\r\n      <g transform=\"translate(167.995094 300.419062)rotate(-90)scale(0.1 -0.1)\">\r\n       <use xlink:href=\"#DejaVuSans-97\"/>\r\n       <use x=\"61.279297\" xlink:href=\"#DejaVuSans-110\"/>\r\n       <use x=\"124.658203\" xlink:href=\"#DejaVuSans-110\"/>\r\n       <use x=\"188.037109\" xlink:href=\"#DejaVuSans-117\"/>\r\n       <use x=\"251.416016\" xlink:href=\"#DejaVuSans-97\"/>\r\n       <use x=\"312.695312\" xlink:href=\"#DejaVuSans-108\"/>\r\n       <use x=\"340.478516\" xlink:href=\"#DejaVuSans-95\"/>\r\n       <use x=\"390.478516\" xlink:href=\"#DejaVuSans-105\"/>\r\n       <use x=\"418.261719\" xlink:href=\"#DejaVuSans-110\"/>\r\n       <use x=\"481.640625\" xlink:href=\"#DejaVuSans-99\"/>\r\n      </g>\r\n     </g>\r\n    </g>\r\n    <g id=\"xtick_8\">\r\n     <g id=\"line2d_8\">\r\n      <g>\r\n       <use style=\"stroke:#000000;stroke-width:0.8;\" x=\"180.007649\" xlink:href=\"#mc943624d1e\" y=\"239.758125\"/>\r\n      </g>\r\n     </g>\r\n     <g id=\"text_8\">\r\n      <!-- verification_status -->\r\n      <defs>\r\n       <path d=\"M 2.984375 54.6875 \r\nL 12.5 54.6875 \r\nL 29.59375 8.796875 \r\nL 46.6875 54.6875 \r\nL 56.203125 54.6875 \r\nL 35.6875 0 \r\nL 23.484375 0 \r\nz\r\n\" id=\"DejaVuSans-118\"/>\r\n       <path d=\"M 37.109375 75.984375 \r\nL 37.109375 68.5 \r\nL 28.515625 68.5 \r\nQ 23.6875 68.5 21.796875 66.546875 \r\nQ 19.921875 64.59375 19.921875 59.515625 \r\nL 19.921875 54.6875 \r\nL 34.71875 54.6875 \r\nL 34.71875 47.703125 \r\nL 19.921875 47.703125 \r\nL 19.921875 0 \r\nL 10.890625 0 \r\nL 10.890625 47.703125 \r\nL 2.296875 47.703125 \r\nL 2.296875 54.6875 \r\nL 10.890625 54.6875 \r\nL 10.890625 58.5 \r\nQ 10.890625 67.625 15.140625 71.796875 \r\nQ 19.390625 75.984375 28.609375 75.984375 \r\nz\r\n\" id=\"DejaVuSans-102\"/>\r\n      </defs>\r\n      <g transform=\"translate(182.627961 338.52375)rotate(-90)scale(0.1 -0.1)\">\r\n       <use xlink:href=\"#DejaVuSans-118\"/>\r\n       <use x=\"59.179688\" xlink:href=\"#DejaVuSans-101\"/>\r\n       <use x=\"120.703125\" xlink:href=\"#DejaVuSans-114\"/>\r\n       <use x=\"161.816406\" xlink:href=\"#DejaVuSans-105\"/>\r\n       <use x=\"189.599609\" xlink:href=\"#DejaVuSans-102\"/>\r\n       <use x=\"224.804688\" xlink:href=\"#DejaVuSans-105\"/>\r\n       <use x=\"252.587891\" xlink:href=\"#DejaVuSans-99\"/>\r\n       <use x=\"307.568359\" xlink:href=\"#DejaVuSans-97\"/>\r\n       <use x=\"368.847656\" xlink:href=\"#DejaVuSans-116\"/>\r\n       <use x=\"408.056641\" xlink:href=\"#DejaVuSans-105\"/>\r\n       <use x=\"435.839844\" xlink:href=\"#DejaVuSans-111\"/>\r\n       <use x=\"497.021484\" xlink:href=\"#DejaVuSans-110\"/>\r\n       <use x=\"560.400391\" xlink:href=\"#DejaVuSans-95\"/>\r\n       <use x=\"610.400391\" xlink:href=\"#DejaVuSans-115\"/>\r\n       <use x=\"662.5\" xlink:href=\"#DejaVuSans-116\"/>\r\n       <use x=\"701.708984\" xlink:href=\"#DejaVuSans-97\"/>\r\n       <use x=\"762.988281\" xlink:href=\"#DejaVuSans-116\"/>\r\n       <use x=\"802.197266\" xlink:href=\"#DejaVuSans-117\"/>\r\n       <use x=\"865.576172\" xlink:href=\"#DejaVuSans-115\"/>\r\n      </g>\r\n     </g>\r\n    </g>\r\n    <g id=\"xtick_9\">\r\n     <g id=\"line2d_9\">\r\n      <g>\r\n       <use style=\"stroke:#000000;stroke-width:0.8;\" x=\"194.640516\" xlink:href=\"#mc943624d1e\" y=\"239.758125\"/>\r\n      </g>\r\n     </g>\r\n     <g id=\"text_9\">\r\n      <!-- purpose -->\r\n      <g transform=\"translate(197.399891 287.384688)rotate(-90)scale(0.1 -0.1)\">\r\n       <use xlink:href=\"#DejaVuSans-112\"/>\r\n       <use x=\"63.476562\" xlink:href=\"#DejaVuSans-117\"/>\r\n       <use x=\"126.855469\" xlink:href=\"#DejaVuSans-114\"/>\r\n       <use x=\"167.96875\" xlink:href=\"#DejaVuSans-112\"/>\r\n       <use x=\"231.445312\" xlink:href=\"#DejaVuSans-111\"/>\r\n       <use x=\"292.626953\" xlink:href=\"#DejaVuSans-115\"/>\r\n       <use x=\"344.726562\" xlink:href=\"#DejaVuSans-101\"/>\r\n      </g>\r\n     </g>\r\n    </g>\r\n    <g id=\"xtick_10\">\r\n     <g id=\"line2d_10\">\r\n      <g>\r\n       <use style=\"stroke:#000000;stroke-width:0.8;\" x=\"209.273383\" xlink:href=\"#mc943624d1e\" y=\"239.758125\"/>\r\n      </g>\r\n     </g>\r\n     <g id=\"text_10\">\r\n      <!-- addr_state -->\r\n      <g transform=\"translate(211.893695 300.025313)rotate(-90)scale(0.1 -0.1)\">\r\n       <use xlink:href=\"#DejaVuSans-97\"/>\r\n       <use x=\"61.279297\" xlink:href=\"#DejaVuSans-100\"/>\r\n       <use x=\"124.755859\" xlink:href=\"#DejaVuSans-100\"/>\r\n       <use x=\"188.232422\" xlink:href=\"#DejaVuSans-114\"/>\r\n       <use x=\"229.345703\" xlink:href=\"#DejaVuSans-95\"/>\r\n       <use x=\"279.345703\" xlink:href=\"#DejaVuSans-115\"/>\r\n       <use x=\"331.445312\" xlink:href=\"#DejaVuSans-116\"/>\r\n       <use x=\"370.654297\" xlink:href=\"#DejaVuSans-97\"/>\r\n       <use x=\"431.933594\" xlink:href=\"#DejaVuSans-116\"/>\r\n       <use x=\"471.142578\" xlink:href=\"#DejaVuSans-101\"/>\r\n      </g>\r\n     </g>\r\n    </g>\r\n    <g id=\"xtick_11\">\r\n     <g id=\"line2d_11\">\r\n      <g>\r\n       <use style=\"stroke:#000000;stroke-width:0.8;\" x=\"223.90625\" xlink:href=\"#mc943624d1e\" y=\"239.758125\"/>\r\n      </g>\r\n     </g>\r\n     <g id=\"text_11\">\r\n      <!-- dti -->\r\n      <g transform=\"translate(226.665625 259.805)rotate(-90)scale(0.1 -0.1)\">\r\n       <use xlink:href=\"#DejaVuSans-100\"/>\r\n       <use x=\"63.476562\" xlink:href=\"#DejaVuSans-116\"/>\r\n       <use x=\"102.685547\" xlink:href=\"#DejaVuSans-105\"/>\r\n      </g>\r\n     </g>\r\n    </g>\r\n    <g id=\"xtick_12\">\r\n     <g id=\"line2d_12\">\r\n      <g>\r\n       <use style=\"stroke:#000000;stroke-width:0.8;\" x=\"238.539117\" xlink:href=\"#mc943624d1e\" y=\"239.758125\"/>\r\n      </g>\r\n     </g>\r\n     <g id=\"text_12\">\r\n      <!-- open_acc -->\r\n      <g transform=\"translate(241.020367 293.840937)rotate(-90)scale(0.1 -0.1)\">\r\n       <use xlink:href=\"#DejaVuSans-111\"/>\r\n       <use x=\"61.181641\" xlink:href=\"#DejaVuSans-112\"/>\r\n       <use x=\"124.658203\" xlink:href=\"#DejaVuSans-101\"/>\r\n       <use x=\"186.181641\" xlink:href=\"#DejaVuSans-110\"/>\r\n       <use x=\"249.560547\" xlink:href=\"#DejaVuSans-95\"/>\r\n       <use x=\"299.560547\" xlink:href=\"#DejaVuSans-97\"/>\r\n       <use x=\"360.839844\" xlink:href=\"#DejaVuSans-99\"/>\r\n       <use x=\"415.820312\" xlink:href=\"#DejaVuSans-99\"/>\r\n      </g>\r\n     </g>\r\n    </g>\r\n    <g id=\"xtick_13\">\r\n     <g id=\"line2d_13\">\r\n      <g>\r\n       <use style=\"stroke:#000000;stroke-width:0.8;\" x=\"253.171984\" xlink:href=\"#mc943624d1e\" y=\"239.758125\"/>\r\n      </g>\r\n     </g>\r\n     <g id=\"text_13\">\r\n      <!-- pub_rec -->\r\n      <g transform=\"translate(255.792297 286.551875)rotate(-90)scale(0.1 -0.1)\">\r\n       <use xlink:href=\"#DejaVuSans-112\"/>\r\n       <use x=\"63.476562\" xlink:href=\"#DejaVuSans-117\"/>\r\n       <use x=\"126.855469\" xlink:href=\"#DejaVuSans-98\"/>\r\n       <use x=\"190.332031\" xlink:href=\"#DejaVuSans-95\"/>\r\n       <use x=\"240.332031\" xlink:href=\"#DejaVuSans-114\"/>\r\n       <use x=\"281.414062\" xlink:href=\"#DejaVuSans-101\"/>\r\n       <use x=\"342.9375\" xlink:href=\"#DejaVuSans-99\"/>\r\n      </g>\r\n     </g>\r\n    </g>\r\n    <g id=\"xtick_14\">\r\n     <g id=\"line2d_14\">\r\n      <g>\r\n       <use style=\"stroke:#000000;stroke-width:0.8;\" x=\"267.804851\" xlink:href=\"#mc943624d1e\" y=\"239.758125\"/>\r\n      </g>\r\n     </g>\r\n     <g id=\"text_14\">\r\n      <!-- revol_bal -->\r\n      <g transform=\"translate(270.425164 292.089375)rotate(-90)scale(0.1 -0.1)\">\r\n       <use xlink:href=\"#DejaVuSans-114\"/>\r\n       <use x=\"41.082031\" xlink:href=\"#DejaVuSans-101\"/>\r\n       <use x=\"102.605469\" xlink:href=\"#DejaVuSans-118\"/>\r\n       <use x=\"161.785156\" xlink:href=\"#DejaVuSans-111\"/>\r\n       <use x=\"222.966797\" xlink:href=\"#DejaVuSans-108\"/>\r\n       <use x=\"250.75\" xlink:href=\"#DejaVuSans-95\"/>\r\n       <use x=\"300.75\" xlink:href=\"#DejaVuSans-98\"/>\r\n       <use x=\"364.226562\" xlink:href=\"#DejaVuSans-97\"/>\r\n       <use x=\"425.505859\" xlink:href=\"#DejaVuSans-108\"/>\r\n      </g>\r\n     </g>\r\n    </g>\r\n    <g id=\"xtick_15\">\r\n     <g id=\"line2d_15\">\r\n      <g>\r\n       <use style=\"stroke:#000000;stroke-width:0.8;\" x=\"282.437719\" xlink:href=\"#mc943624d1e\" y=\"239.758125\"/>\r\n      </g>\r\n     </g>\r\n     <g id=\"text_15\">\r\n      <!-- revol_util -->\r\n      <g transform=\"translate(285.058031 292.64875)rotate(-90)scale(0.1 -0.1)\">\r\n       <use xlink:href=\"#DejaVuSans-114\"/>\r\n       <use x=\"41.082031\" xlink:href=\"#DejaVuSans-101\"/>\r\n       <use x=\"102.605469\" xlink:href=\"#DejaVuSans-118\"/>\r\n       <use x=\"161.785156\" xlink:href=\"#DejaVuSans-111\"/>\r\n       <use x=\"222.966797\" xlink:href=\"#DejaVuSans-108\"/>\r\n       <use x=\"250.75\" xlink:href=\"#DejaVuSans-95\"/>\r\n       <use x=\"300.75\" xlink:href=\"#DejaVuSans-117\"/>\r\n       <use x=\"364.128906\" xlink:href=\"#DejaVuSans-116\"/>\r\n       <use x=\"403.337891\" xlink:href=\"#DejaVuSans-105\"/>\r\n       <use x=\"431.121094\" xlink:href=\"#DejaVuSans-108\"/>\r\n      </g>\r\n     </g>\r\n    </g>\r\n    <g id=\"xtick_16\">\r\n     <g id=\"line2d_16\">\r\n      <g>\r\n       <use style=\"stroke:#000000;stroke-width:0.8;\" x=\"297.070586\" xlink:href=\"#mc943624d1e\" y=\"239.758125\"/>\r\n      </g>\r\n     </g>\r\n     <g id=\"text_16\">\r\n      <!-- initial_list_status -->\r\n      <g transform=\"translate(299.690898 329.6675)rotate(-90)scale(0.1 -0.1)\">\r\n       <use xlink:href=\"#DejaVuSans-105\"/>\r\n       <use x=\"27.783203\" xlink:href=\"#DejaVuSans-110\"/>\r\n       <use x=\"91.162109\" xlink:href=\"#DejaVuSans-105\"/>\r\n       <use x=\"118.945312\" xlink:href=\"#DejaVuSans-116\"/>\r\n       <use x=\"158.154297\" xlink:href=\"#DejaVuSans-105\"/>\r\n       <use x=\"185.9375\" xlink:href=\"#DejaVuSans-97\"/>\r\n       <use x=\"247.216797\" xlink:href=\"#DejaVuSans-108\"/>\r\n       <use x=\"275\" xlink:href=\"#DejaVuSans-95\"/>\r\n       <use x=\"325\" xlink:href=\"#DejaVuSans-108\"/>\r\n       <use x=\"352.783203\" xlink:href=\"#DejaVuSans-105\"/>\r\n       <use x=\"380.566406\" xlink:href=\"#DejaVuSans-115\"/>\r\n       <use x=\"432.666016\" xlink:href=\"#DejaVuSans-116\"/>\r\n       <use x=\"471.875\" xlink:href=\"#DejaVuSans-95\"/>\r\n       <use x=\"521.875\" xlink:href=\"#DejaVuSans-115\"/>\r\n       <use x=\"573.974609\" xlink:href=\"#DejaVuSans-116\"/>\r\n       <use x=\"613.183594\" xlink:href=\"#DejaVuSans-97\"/>\r\n       <use x=\"674.462891\" xlink:href=\"#DejaVuSans-116\"/>\r\n       <use x=\"713.671875\" xlink:href=\"#DejaVuSans-117\"/>\r\n       <use x=\"777.050781\" xlink:href=\"#DejaVuSans-115\"/>\r\n      </g>\r\n     </g>\r\n    </g>\r\n    <g id=\"xtick_17\">\r\n     <g id=\"line2d_17\">\r\n      <g>\r\n       <use style=\"stroke:#000000;stroke-width:0.8;\" x=\"311.703453\" xlink:href=\"#mc943624d1e\" y=\"239.758125\"/>\r\n      </g>\r\n     </g>\r\n     <g id=\"text_17\">\r\n      <!-- application_type -->\r\n      <defs>\r\n       <path d=\"M 32.171875 -5.078125 \r\nQ 28.375 -14.84375 24.75 -17.8125 \r\nQ 21.140625 -20.796875 15.09375 -20.796875 \r\nL 7.90625 -20.796875 \r\nL 7.90625 -13.28125 \r\nL 13.1875 -13.28125 \r\nQ 16.890625 -13.28125 18.9375 -11.515625 \r\nQ 21 -9.765625 23.484375 -3.21875 \r\nL 25.09375 0.875 \r\nL 2.984375 54.6875 \r\nL 12.5 54.6875 \r\nL 29.59375 11.921875 \r\nL 46.6875 54.6875 \r\nL 56.203125 54.6875 \r\nz\r\n\" id=\"DejaVuSans-121\"/>\r\n      </defs>\r\n      <g transform=\"translate(314.323765 329.26125)rotate(-90)scale(0.1 -0.1)\">\r\n       <use xlink:href=\"#DejaVuSans-97\"/>\r\n       <use x=\"61.279297\" xlink:href=\"#DejaVuSans-112\"/>\r\n       <use x=\"124.755859\" xlink:href=\"#DejaVuSans-112\"/>\r\n       <use x=\"188.232422\" xlink:href=\"#DejaVuSans-108\"/>\r\n       <use x=\"216.015625\" xlink:href=\"#DejaVuSans-105\"/>\r\n       <use x=\"243.798828\" xlink:href=\"#DejaVuSans-99\"/>\r\n       <use x=\"298.779297\" xlink:href=\"#DejaVuSans-97\"/>\r\n       <use x=\"360.058594\" xlink:href=\"#DejaVuSans-116\"/>\r\n       <use x=\"399.267578\" xlink:href=\"#DejaVuSans-105\"/>\r\n       <use x=\"427.050781\" xlink:href=\"#DejaVuSans-111\"/>\r\n       <use x=\"488.232422\" xlink:href=\"#DejaVuSans-110\"/>\r\n       <use x=\"551.611328\" xlink:href=\"#DejaVuSans-95\"/>\r\n       <use x=\"601.611328\" xlink:href=\"#DejaVuSans-116\"/>\r\n       <use x=\"640.820312\" xlink:href=\"#DejaVuSans-121\"/>\r\n       <use x=\"700\" xlink:href=\"#DejaVuSans-112\"/>\r\n       <use x=\"763.476562\" xlink:href=\"#DejaVuSans-101\"/>\r\n      </g>\r\n     </g>\r\n    </g>\r\n    <g id=\"xtick_18\">\r\n     <g id=\"line2d_18\">\r\n      <g>\r\n       <use style=\"stroke:#000000;stroke-width:0.8;\" x=\"326.33632\" xlink:href=\"#mc943624d1e\" y=\"239.758125\"/>\r\n      </g>\r\n     </g>\r\n     <g id=\"text_18\">\r\n      <!-- mo_sin_old_il_acct -->\r\n      <g transform=\"translate(328.956632 338.789375)rotate(-90)scale(0.1 -0.1)\">\r\n       <use xlink:href=\"#DejaVuSans-109\"/>\r\n       <use x=\"97.412109\" xlink:href=\"#DejaVuSans-111\"/>\r\n       <use x=\"158.59375\" xlink:href=\"#DejaVuSans-95\"/>\r\n       <use x=\"208.59375\" xlink:href=\"#DejaVuSans-115\"/>\r\n       <use x=\"260.693359\" xlink:href=\"#DejaVuSans-105\"/>\r\n       <use x=\"288.476562\" xlink:href=\"#DejaVuSans-110\"/>\r\n       <use x=\"351.855469\" xlink:href=\"#DejaVuSans-95\"/>\r\n       <use x=\"401.855469\" xlink:href=\"#DejaVuSans-111\"/>\r\n       <use x=\"463.037109\" xlink:href=\"#DejaVuSans-108\"/>\r\n       <use x=\"490.820312\" xlink:href=\"#DejaVuSans-100\"/>\r\n       <use x=\"554.296875\" xlink:href=\"#DejaVuSans-95\"/>\r\n       <use x=\"604.296875\" xlink:href=\"#DejaVuSans-105\"/>\r\n       <use x=\"632.080078\" xlink:href=\"#DejaVuSans-108\"/>\r\n       <use x=\"659.863281\" xlink:href=\"#DejaVuSans-95\"/>\r\n       <use x=\"709.863281\" xlink:href=\"#DejaVuSans-97\"/>\r\n       <use x=\"771.142578\" xlink:href=\"#DejaVuSans-99\"/>\r\n       <use x=\"826.123047\" xlink:href=\"#DejaVuSans-99\"/>\r\n       <use x=\"881.103516\" xlink:href=\"#DejaVuSans-116\"/>\r\n      </g>\r\n     </g>\r\n    </g>\r\n    <g id=\"xtick_19\">\r\n     <g id=\"line2d_19\">\r\n      <g>\r\n       <use style=\"stroke:#000000;stroke-width:0.8;\" x=\"340.969187\" xlink:href=\"#mc943624d1e\" y=\"239.758125\"/>\r\n      </g>\r\n     </g>\r\n     <g id=\"text_19\">\r\n      <!-- mort_acc -->\r\n      <g transform=\"translate(343.450437 292.77375)rotate(-90)scale(0.1 -0.1)\">\r\n       <use xlink:href=\"#DejaVuSans-109\"/>\r\n       <use x=\"97.412109\" xlink:href=\"#DejaVuSans-111\"/>\r\n       <use x=\"158.59375\" xlink:href=\"#DejaVuSans-114\"/>\r\n       <use x=\"199.707031\" xlink:href=\"#DejaVuSans-116\"/>\r\n       <use x=\"238.916016\" xlink:href=\"#DejaVuSans-95\"/>\r\n       <use x=\"288.916016\" xlink:href=\"#DejaVuSans-97\"/>\r\n       <use x=\"350.195312\" xlink:href=\"#DejaVuSans-99\"/>\r\n       <use x=\"405.175781\" xlink:href=\"#DejaVuSans-99\"/>\r\n      </g>\r\n     </g>\r\n    </g>\r\n    <g id=\"xtick_20\">\r\n     <g id=\"line2d_20\">\r\n      <g>\r\n       <use style=\"stroke:#000000;stroke-width:0.8;\" x=\"355.602054\" xlink:href=\"#mc943624d1e\" y=\"239.758125\"/>\r\n      </g>\r\n     </g>\r\n     <g id=\"text_20\">\r\n      <!-- earliest_cr_year -->\r\n      <g transform=\"translate(358.222367 325.909688)rotate(-90)scale(0.1 -0.1)\">\r\n       <use xlink:href=\"#DejaVuSans-101\"/>\r\n       <use x=\"61.523438\" xlink:href=\"#DejaVuSans-97\"/>\r\n       <use x=\"122.802734\" xlink:href=\"#DejaVuSans-114\"/>\r\n       <use x=\"163.916016\" xlink:href=\"#DejaVuSans-108\"/>\r\n       <use x=\"191.699219\" xlink:href=\"#DejaVuSans-105\"/>\r\n       <use x=\"219.482422\" xlink:href=\"#DejaVuSans-101\"/>\r\n       <use x=\"281.005859\" xlink:href=\"#DejaVuSans-115\"/>\r\n       <use x=\"333.105469\" xlink:href=\"#DejaVuSans-116\"/>\r\n       <use x=\"372.314453\" xlink:href=\"#DejaVuSans-95\"/>\r\n       <use x=\"422.314453\" xlink:href=\"#DejaVuSans-99\"/>\r\n       <use x=\"477.294922\" xlink:href=\"#DejaVuSans-114\"/>\r\n       <use x=\"518.408203\" xlink:href=\"#DejaVuSans-95\"/>\r\n       <use x=\"568.408203\" xlink:href=\"#DejaVuSans-121\"/>\r\n       <use x=\"627.587891\" xlink:href=\"#DejaVuSans-101\"/>\r\n       <use x=\"689.111328\" xlink:href=\"#DejaVuSans-97\"/>\r\n       <use x=\"750.390625\" xlink:href=\"#DejaVuSans-114\"/>\r\n      </g>\r\n     </g>\r\n    </g>\r\n    <g id=\"xtick_21\">\r\n     <g id=\"line2d_21\">\r\n      <g>\r\n       <use style=\"stroke:#000000;stroke-width:0.8;\" x=\"370.234921\" xlink:href=\"#mc943624d1e\" y=\"239.758125\"/>\r\n      </g>\r\n     </g>\r\n     <g id=\"text_21\">\r\n      <!-- fico_score -->\r\n      <g transform=\"translate(372.855234 296.76125)rotate(-90)scale(0.1 -0.1)\">\r\n       <use xlink:href=\"#DejaVuSans-102\"/>\r\n       <use x=\"35.205078\" xlink:href=\"#DejaVuSans-105\"/>\r\n       <use x=\"62.988281\" xlink:href=\"#DejaVuSans-99\"/>\r\n       <use x=\"117.96875\" xlink:href=\"#DejaVuSans-111\"/>\r\n       <use x=\"179.150391\" xlink:href=\"#DejaVuSans-95\"/>\r\n       <use x=\"229.150391\" xlink:href=\"#DejaVuSans-115\"/>\r\n       <use x=\"281.25\" xlink:href=\"#DejaVuSans-99\"/>\r\n       <use x=\"336.230469\" xlink:href=\"#DejaVuSans-111\"/>\r\n       <use x=\"397.412109\" xlink:href=\"#DejaVuSans-114\"/>\r\n       <use x=\"438.494141\" xlink:href=\"#DejaVuSans-101\"/>\r\n      </g>\r\n     </g>\r\n    </g>\r\n    <g id=\"text_22\">\r\n     <!-- Variable -->\r\n     <defs>\r\n      <path d=\"M 28.609375 0 \r\nL 0.78125 72.90625 \r\nL 11.078125 72.90625 \r\nL 34.1875 11.53125 \r\nL 57.328125 72.90625 \r\nL 67.578125 72.90625 \r\nL 39.796875 0 \r\nz\r\n\" id=\"DejaVuSans-86\"/>\r\n     </defs>\r\n     <g transform=\"translate(203.278906 350.387812)scale(0.1 -0.1)\">\r\n      <use xlink:href=\"#DejaVuSans-86\"/>\r\n      <use x=\"68.298828\" xlink:href=\"#DejaVuSans-97\"/>\r\n      <use x=\"129.578125\" xlink:href=\"#DejaVuSans-114\"/>\r\n      <use x=\"170.691406\" xlink:href=\"#DejaVuSans-105\"/>\r\n      <use x=\"198.474609\" xlink:href=\"#DejaVuSans-97\"/>\r\n      <use x=\"259.753906\" xlink:href=\"#DejaVuSans-98\"/>\r\n      <use x=\"323.230469\" xlink:href=\"#DejaVuSans-108\"/>\r\n      <use x=\"351.013672\" xlink:href=\"#DejaVuSans-101\"/>\r\n     </g>\r\n    </g>\r\n   </g>\r\n   <g id=\"matplotlib.axis_2\">\r\n    <g id=\"ytick_1\">\r\n     <g id=\"line2d_22\">\r\n      <defs>\r\n       <path d=\"M 0 0 \r\nL -3.5 0 \r\n\" id=\"mb31a0945c1\" style=\"stroke:#000000;stroke-width:0.8;\"/>\r\n      </defs>\r\n      <g>\r\n       <use style=\"stroke:#000000;stroke-width:0.8;\" x=\"56.50625\" xlink:href=\"#mb31a0945c1\" y=\"239.758125\"/>\r\n      </g>\r\n     </g>\r\n     <g id=\"text_23\">\r\n      <!-- 0.000 -->\r\n      <defs>\r\n       <path d=\"M 31.78125 66.40625 \r\nQ 24.171875 66.40625 20.328125 58.90625 \r\nQ 16.5 51.421875 16.5 36.375 \r\nQ 16.5 21.390625 20.328125 13.890625 \r\nQ 24.171875 6.390625 31.78125 6.390625 \r\nQ 39.453125 6.390625 43.28125 13.890625 \r\nQ 47.125 21.390625 47.125 36.375 \r\nQ 47.125 51.421875 43.28125 58.90625 \r\nQ 39.453125 66.40625 31.78125 66.40625 \r\nz\r\nM 31.78125 74.21875 \r\nQ 44.046875 74.21875 50.515625 64.515625 \r\nQ 56.984375 54.828125 56.984375 36.375 \r\nQ 56.984375 17.96875 50.515625 8.265625 \r\nQ 44.046875 -1.421875 31.78125 -1.421875 \r\nQ 19.53125 -1.421875 13.0625 8.265625 \r\nQ 6.59375 17.96875 6.59375 36.375 \r\nQ 6.59375 54.828125 13.0625 64.515625 \r\nQ 19.53125 74.21875 31.78125 74.21875 \r\nz\r\n\" id=\"DejaVuSans-48\"/>\r\n       <path d=\"M 10.6875 12.40625 \r\nL 21 12.40625 \r\nL 21 0 \r\nL 10.6875 0 \r\nz\r\n\" id=\"DejaVuSans-46\"/>\r\n      </defs>\r\n      <g transform=\"translate(20.878125 243.557344)scale(0.1 -0.1)\">\r\n       <use xlink:href=\"#DejaVuSans-48\"/>\r\n       <use x=\"63.623047\" xlink:href=\"#DejaVuSans-46\"/>\r\n       <use x=\"95.410156\" xlink:href=\"#DejaVuSans-48\"/>\r\n       <use x=\"159.033203\" xlink:href=\"#DejaVuSans-48\"/>\r\n       <use x=\"222.65625\" xlink:href=\"#DejaVuSans-48\"/>\r\n      </g>\r\n     </g>\r\n    </g>\r\n    <g id=\"ytick_2\">\r\n     <g id=\"line2d_23\">\r\n      <g>\r\n       <use style=\"stroke:#000000;stroke-width:0.8;\" x=\"56.50625\" xlink:href=\"#mb31a0945c1\" y=\"215.081516\"/>\r\n      </g>\r\n     </g>\r\n     <g id=\"text_24\">\r\n      <!-- 0.025 -->\r\n      <defs>\r\n       <path d=\"M 19.1875 8.296875 \r\nL 53.609375 8.296875 \r\nL 53.609375 0 \r\nL 7.328125 0 \r\nL 7.328125 8.296875 \r\nQ 12.9375 14.109375 22.625 23.890625 \r\nQ 32.328125 33.6875 34.8125 36.53125 \r\nQ 39.546875 41.84375 41.421875 45.53125 \r\nQ 43.3125 49.21875 43.3125 52.78125 \r\nQ 43.3125 58.59375 39.234375 62.25 \r\nQ 35.15625 65.921875 28.609375 65.921875 \r\nQ 23.96875 65.921875 18.8125 64.3125 \r\nQ 13.671875 62.703125 7.8125 59.421875 \r\nL 7.8125 69.390625 \r\nQ 13.765625 71.78125 18.9375 73 \r\nQ 24.125 74.21875 28.421875 74.21875 \r\nQ 39.75 74.21875 46.484375 68.546875 \r\nQ 53.21875 62.890625 53.21875 53.421875 \r\nQ 53.21875 48.921875 51.53125 44.890625 \r\nQ 49.859375 40.875 45.40625 35.40625 \r\nQ 44.1875 33.984375 37.640625 27.21875 \r\nQ 31.109375 20.453125 19.1875 8.296875 \r\nz\r\n\" id=\"DejaVuSans-50\"/>\r\n       <path d=\"M 10.796875 72.90625 \r\nL 49.515625 72.90625 \r\nL 49.515625 64.59375 \r\nL 19.828125 64.59375 \r\nL 19.828125 46.734375 \r\nQ 21.96875 47.46875 24.109375 47.828125 \r\nQ 26.265625 48.1875 28.421875 48.1875 \r\nQ 40.625 48.1875 47.75 41.5 \r\nQ 54.890625 34.8125 54.890625 23.390625 \r\nQ 54.890625 11.625 47.5625 5.09375 \r\nQ 40.234375 -1.421875 26.90625 -1.421875 \r\nQ 22.3125 -1.421875 17.546875 -0.640625 \r\nQ 12.796875 0.140625 7.71875 1.703125 \r\nL 7.71875 11.625 \r\nQ 12.109375 9.234375 16.796875 8.0625 \r\nQ 21.484375 6.890625 26.703125 6.890625 \r\nQ 35.15625 6.890625 40.078125 11.328125 \r\nQ 45.015625 15.765625 45.015625 23.390625 \r\nQ 45.015625 31 40.078125 35.4375 \r\nQ 35.15625 39.890625 26.703125 39.890625 \r\nQ 22.75 39.890625 18.8125 39.015625 \r\nQ 14.890625 38.140625 10.796875 36.28125 \r\nz\r\n\" id=\"DejaVuSans-53\"/>\r\n      </defs>\r\n      <g transform=\"translate(20.878125 218.880735)scale(0.1 -0.1)\">\r\n       <use xlink:href=\"#DejaVuSans-48\"/>\r\n       <use x=\"63.623047\" xlink:href=\"#DejaVuSans-46\"/>\r\n       <use x=\"95.410156\" xlink:href=\"#DejaVuSans-48\"/>\r\n       <use x=\"159.033203\" xlink:href=\"#DejaVuSans-50\"/>\r\n       <use x=\"222.65625\" xlink:href=\"#DejaVuSans-53\"/>\r\n      </g>\r\n     </g>\r\n    </g>\r\n    <g id=\"ytick_3\">\r\n     <g id=\"line2d_24\">\r\n      <g>\r\n       <use style=\"stroke:#000000;stroke-width:0.8;\" x=\"56.50625\" xlink:href=\"#mb31a0945c1\" y=\"190.404908\"/>\r\n      </g>\r\n     </g>\r\n     <g id=\"text_25\">\r\n      <!-- 0.050 -->\r\n      <g transform=\"translate(20.878125 194.204127)scale(0.1 -0.1)\">\r\n       <use xlink:href=\"#DejaVuSans-48\"/>\r\n       <use x=\"63.623047\" xlink:href=\"#DejaVuSans-46\"/>\r\n       <use x=\"95.410156\" xlink:href=\"#DejaVuSans-48\"/>\r\n       <use x=\"159.033203\" xlink:href=\"#DejaVuSans-53\"/>\r\n       <use x=\"222.65625\" xlink:href=\"#DejaVuSans-48\"/>\r\n      </g>\r\n     </g>\r\n    </g>\r\n    <g id=\"ytick_4\">\r\n     <g id=\"line2d_25\">\r\n      <g>\r\n       <use style=\"stroke:#000000;stroke-width:0.8;\" x=\"56.50625\" xlink:href=\"#mb31a0945c1\" y=\"165.728299\"/>\r\n      </g>\r\n     </g>\r\n     <g id=\"text_26\">\r\n      <!-- 0.075 -->\r\n      <defs>\r\n       <path d=\"M 8.203125 72.90625 \r\nL 55.078125 72.90625 \r\nL 55.078125 68.703125 \r\nL 28.609375 0 \r\nL 18.3125 0 \r\nL 43.21875 64.59375 \r\nL 8.203125 64.59375 \r\nz\r\n\" id=\"DejaVuSans-55\"/>\r\n      </defs>\r\n      <g transform=\"translate(20.878125 169.527518)scale(0.1 -0.1)\">\r\n       <use xlink:href=\"#DejaVuSans-48\"/>\r\n       <use x=\"63.623047\" xlink:href=\"#DejaVuSans-46\"/>\r\n       <use x=\"95.410156\" xlink:href=\"#DejaVuSans-48\"/>\r\n       <use x=\"159.033203\" xlink:href=\"#DejaVuSans-55\"/>\r\n       <use x=\"222.65625\" xlink:href=\"#DejaVuSans-53\"/>\r\n      </g>\r\n     </g>\r\n    </g>\r\n    <g id=\"ytick_5\">\r\n     <g id=\"line2d_26\">\r\n      <g>\r\n       <use style=\"stroke:#000000;stroke-width:0.8;\" x=\"56.50625\" xlink:href=\"#mb31a0945c1\" y=\"141.051691\"/>\r\n      </g>\r\n     </g>\r\n     <g id=\"text_27\">\r\n      <!-- 0.100 -->\r\n      <defs>\r\n       <path d=\"M 12.40625 8.296875 \r\nL 28.515625 8.296875 \r\nL 28.515625 63.921875 \r\nL 10.984375 60.40625 \r\nL 10.984375 69.390625 \r\nL 28.421875 72.90625 \r\nL 38.28125 72.90625 \r\nL 38.28125 8.296875 \r\nL 54.390625 8.296875 \r\nL 54.390625 0 \r\nL 12.40625 0 \r\nz\r\n\" id=\"DejaVuSans-49\"/>\r\n      </defs>\r\n      <g transform=\"translate(20.878125 144.85091)scale(0.1 -0.1)\">\r\n       <use xlink:href=\"#DejaVuSans-48\"/>\r\n       <use x=\"63.623047\" xlink:href=\"#DejaVuSans-46\"/>\r\n       <use x=\"95.410156\" xlink:href=\"#DejaVuSans-49\"/>\r\n       <use x=\"159.033203\" xlink:href=\"#DejaVuSans-48\"/>\r\n       <use x=\"222.65625\" xlink:href=\"#DejaVuSans-48\"/>\r\n      </g>\r\n     </g>\r\n    </g>\r\n    <g id=\"ytick_6\">\r\n     <g id=\"line2d_27\">\r\n      <g>\r\n       <use style=\"stroke:#000000;stroke-width:0.8;\" x=\"56.50625\" xlink:href=\"#mb31a0945c1\" y=\"116.375082\"/>\r\n      </g>\r\n     </g>\r\n     <g id=\"text_28\">\r\n      <!-- 0.125 -->\r\n      <g transform=\"translate(20.878125 120.174301)scale(0.1 -0.1)\">\r\n       <use xlink:href=\"#DejaVuSans-48\"/>\r\n       <use x=\"63.623047\" xlink:href=\"#DejaVuSans-46\"/>\r\n       <use x=\"95.410156\" xlink:href=\"#DejaVuSans-49\"/>\r\n       <use x=\"159.033203\" xlink:href=\"#DejaVuSans-50\"/>\r\n       <use x=\"222.65625\" xlink:href=\"#DejaVuSans-53\"/>\r\n      </g>\r\n     </g>\r\n    </g>\r\n    <g id=\"ytick_7\">\r\n     <g id=\"line2d_28\">\r\n      <g>\r\n       <use style=\"stroke:#000000;stroke-width:0.8;\" x=\"56.50625\" xlink:href=\"#mb31a0945c1\" y=\"91.698474\"/>\r\n      </g>\r\n     </g>\r\n     <g id=\"text_29\">\r\n      <!-- 0.150 -->\r\n      <g transform=\"translate(20.878125 95.497693)scale(0.1 -0.1)\">\r\n       <use xlink:href=\"#DejaVuSans-48\"/>\r\n       <use x=\"63.623047\" xlink:href=\"#DejaVuSans-46\"/>\r\n       <use x=\"95.410156\" xlink:href=\"#DejaVuSans-49\"/>\r\n       <use x=\"159.033203\" xlink:href=\"#DejaVuSans-53\"/>\r\n       <use x=\"222.65625\" xlink:href=\"#DejaVuSans-48\"/>\r\n      </g>\r\n     </g>\r\n    </g>\r\n    <g id=\"ytick_8\">\r\n     <g id=\"line2d_29\">\r\n      <g>\r\n       <use style=\"stroke:#000000;stroke-width:0.8;\" x=\"56.50625\" xlink:href=\"#mb31a0945c1\" y=\"67.021865\"/>\r\n      </g>\r\n     </g>\r\n     <g id=\"text_30\">\r\n      <!-- 0.175 -->\r\n      <g transform=\"translate(20.878125 70.821084)scale(0.1 -0.1)\">\r\n       <use xlink:href=\"#DejaVuSans-48\"/>\r\n       <use x=\"63.623047\" xlink:href=\"#DejaVuSans-46\"/>\r\n       <use x=\"95.410156\" xlink:href=\"#DejaVuSans-49\"/>\r\n       <use x=\"159.033203\" xlink:href=\"#DejaVuSans-55\"/>\r\n       <use x=\"222.65625\" xlink:href=\"#DejaVuSans-53\"/>\r\n      </g>\r\n     </g>\r\n    </g>\r\n    <g id=\"ytick_9\">\r\n     <g id=\"line2d_30\">\r\n      <g>\r\n       <use style=\"stroke:#000000;stroke-width:0.8;\" x=\"56.50625\" xlink:href=\"#mb31a0945c1\" y=\"42.345257\"/>\r\n      </g>\r\n     </g>\r\n     <g id=\"text_31\">\r\n      <!-- 0.200 -->\r\n      <g transform=\"translate(20.878125 46.144476)scale(0.1 -0.1)\">\r\n       <use xlink:href=\"#DejaVuSans-48\"/>\r\n       <use x=\"63.623047\" xlink:href=\"#DejaVuSans-46\"/>\r\n       <use x=\"95.410156\" xlink:href=\"#DejaVuSans-50\"/>\r\n       <use x=\"159.033203\" xlink:href=\"#DejaVuSans-48\"/>\r\n       <use x=\"222.65625\" xlink:href=\"#DejaVuSans-48\"/>\r\n      </g>\r\n     </g>\r\n    </g>\r\n    <g id=\"text_32\">\r\n     <!-- Importance -->\r\n     <defs>\r\n      <path d=\"M 9.8125 72.90625 \r\nL 19.671875 72.90625 \r\nL 19.671875 0 \r\nL 9.8125 0 \r\nz\r\n\" id=\"DejaVuSans-73\"/>\r\n     </defs>\r\n     <g transform=\"translate(14.798437 159.69125)rotate(-90)scale(0.1 -0.1)\">\r\n      <use xlink:href=\"#DejaVuSans-73\"/>\r\n      <use x=\"29.492188\" xlink:href=\"#DejaVuSans-109\"/>\r\n      <use x=\"126.904297\" xlink:href=\"#DejaVuSans-112\"/>\r\n      <use x=\"190.380859\" xlink:href=\"#DejaVuSans-111\"/>\r\n      <use x=\"251.5625\" xlink:href=\"#DejaVuSans-114\"/>\r\n      <use x=\"292.675781\" xlink:href=\"#DejaVuSans-116\"/>\r\n      <use x=\"331.884766\" xlink:href=\"#DejaVuSans-97\"/>\r\n      <use x=\"393.164062\" xlink:href=\"#DejaVuSans-110\"/>\r\n      <use x=\"456.542969\" xlink:href=\"#DejaVuSans-99\"/>\r\n      <use x=\"511.523438\" xlink:href=\"#DejaVuSans-101\"/>\r\n     </g>\r\n    </g>\r\n   </g>\r\n   <g id=\"patch_24\">\r\n    <path d=\"M 56.50625 239.758125 \r\nL 56.50625 22.318125 \r\n\" style=\"fill:none;stroke:#000000;stroke-linecap:square;stroke-linejoin:miter;stroke-width:0.8;\"/>\r\n   </g>\r\n   <g id=\"patch_25\">\r\n    <path d=\"M 391.30625 239.758125 \r\nL 391.30625 22.318125 \r\n\" style=\"fill:none;stroke:#000000;stroke-linecap:square;stroke-linejoin:miter;stroke-width:0.8;\"/>\r\n   </g>\r\n   <g id=\"patch_26\">\r\n    <path d=\"M 56.50625 239.758125 \r\nL 391.30625 239.758125 \r\n\" style=\"fill:none;stroke:#000000;stroke-linecap:square;stroke-linejoin:miter;stroke-width:0.8;\"/>\r\n   </g>\r\n   <g id=\"patch_27\">\r\n    <path d=\"M 56.50625 22.318125 \r\nL 391.30625 22.318125 \r\n\" style=\"fill:none;stroke:#000000;stroke-linecap:square;stroke-linejoin:miter;stroke-width:0.8;\"/>\r\n   </g>\r\n   <g id=\"text_33\">\r\n    <!-- Variable Importances -->\r\n    <defs>\r\n     <path id=\"DejaVuSans-32\"/>\r\n    </defs>\r\n    <g transform=\"translate(159.737188 16.318125)scale(0.12 -0.12)\">\r\n     <use xlink:href=\"#DejaVuSans-86\"/>\r\n     <use x=\"68.298828\" xlink:href=\"#DejaVuSans-97\"/>\r\n     <use x=\"129.578125\" xlink:href=\"#DejaVuSans-114\"/>\r\n     <use x=\"170.691406\" xlink:href=\"#DejaVuSans-105\"/>\r\n     <use x=\"198.474609\" xlink:href=\"#DejaVuSans-97\"/>\r\n     <use x=\"259.753906\" xlink:href=\"#DejaVuSans-98\"/>\r\n     <use x=\"323.230469\" xlink:href=\"#DejaVuSans-108\"/>\r\n     <use x=\"351.013672\" xlink:href=\"#DejaVuSans-101\"/>\r\n     <use x=\"412.537109\" xlink:href=\"#DejaVuSans-32\"/>\r\n     <use x=\"444.324219\" xlink:href=\"#DejaVuSans-73\"/>\r\n     <use x=\"473.816406\" xlink:href=\"#DejaVuSans-109\"/>\r\n     <use x=\"571.228516\" xlink:href=\"#DejaVuSans-112\"/>\r\n     <use x=\"634.705078\" xlink:href=\"#DejaVuSans-111\"/>\r\n     <use x=\"695.886719\" xlink:href=\"#DejaVuSans-114\"/>\r\n     <use x=\"737\" xlink:href=\"#DejaVuSans-116\"/>\r\n     <use x=\"776.208984\" xlink:href=\"#DejaVuSans-97\"/>\r\n     <use x=\"837.488281\" xlink:href=\"#DejaVuSans-110\"/>\r\n     <use x=\"900.867188\" xlink:href=\"#DejaVuSans-99\"/>\r\n     <use x=\"955.847656\" xlink:href=\"#DejaVuSans-101\"/>\r\n     <use x=\"1017.371094\" xlink:href=\"#DejaVuSans-115\"/>\r\n    </g>\r\n   </g>\r\n  </g>\r\n </g>\r\n <defs>\r\n  <clipPath id=\"pa96ceb7258\">\r\n   <rect height=\"217.44\" width=\"334.8\" x=\"56.50625\" y=\"22.318125\"/>\r\n  </clipPath>\r\n </defs>\r\n</svg>\r\n",
      "image/png": "[encoded data removed]"
     },
     "metadata": {
      "needs_background": "light"
     }
    }
   ],
   "source": [
    "# Set the style\n",
    "#plt.style.use('fivethirtyeight')\n",
    "\n",
    "# list of x locations for plotting\n",
    "x_values = list(range(len(rfc.feature_importances_)))\n",
    "# Make a bar chart\n",
    "plt.bar(x_values, rfc.feature_importances_, orientation = 'vertical')\n",
    "plt.barh(feature_names, x_values)\n",
    "# Tick labels for x axis\n",
    "plt.xticks(x_values, feature_names, rotation='vertical')\n",
    "# Axis labels and title\n",
    "plt.ylabel('Importance'); plt.xlabel('Variable'); plt.title('Variable Importances');"
   ]
  }
 ]
}